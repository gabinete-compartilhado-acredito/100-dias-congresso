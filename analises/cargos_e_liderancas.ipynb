{
 "cells": [
  {
   "cell_type": "code",
   "execution_count": 1,
   "metadata": {},
   "outputs": [
    {
     "data": {
      "application/javascript": [
       "IPython.notebook.set_autosave_interval(1000000000)"
      ]
     },
     "metadata": {},
     "output_type": "display_data"
    },
    {
     "name": "stdout",
     "output_type": "stream",
     "text": [
      "Autosaving every 1000000 seconds\n"
     ]
    }
   ],
   "source": [
    "import pandas as pd\n",
    "import numpy as np\n",
    "import matplotlib.pyplot as pl\n",
    "import xavierUtils as xu\n",
    "import datetime as dt\n",
    "%autosave 1000000"
   ]
  },
  {
   "cell_type": "code",
   "execution_count": 3,
   "metadata": {},
   "outputs": [
    {
     "data": {
      "text/plain": [
       "Timestamp('2019-05-11 00:00:00')"
      ]
     },
     "execution_count": 3,
     "metadata": {},
     "output_type": "execute_result"
    }
   ],
   "source": [
    "pd.to_datetime('2019-02-01') + pd.to_timedelta(99, unit='d')"
   ]
  },
  {
   "cell_type": "code",
   "execution_count": 149,
   "metadata": {},
   "outputs": [
    {
     "name": "stdout",
     "output_type": "stream",
     "text": [
      "2019-04-25\n"
     ]
    }
   ],
   "source": [
    "today = dt.datetime.now().strftime(\"%Y-%m-%d\")\n",
    "print today"
   ]
  },
  {
   "cell_type": "markdown",
   "metadata": {},
   "source": [
    "### Carregando dados"
   ]
  },
  {
   "cell_type": "code",
   "execution_count": 80,
   "metadata": {},
   "outputs": [],
   "source": [
    "query = \"SELECT * FROM `gabinete-compartilhado.camara_v2.deputados_orgaos`\"\n",
    "\n",
    "rorgaos = pd.read_gbq(query, project_id='gabinete-compartilhado', \n",
    "                dialect='standard',\n",
    "                private_key='../keys-configs/gabinete-compartilhado.json')"
   ]
  },
  {
   "cell_type": "code",
   "execution_count": 111,
   "metadata": {},
   "outputs": [],
   "source": [
    "rorgaos['id_deputado'] = rorgaos.api_url.map(lambda s: int(s.split('/')[-2]))"
   ]
  },
  {
   "cell_type": "code",
   "execution_count": 43,
   "metadata": {},
   "outputs": [],
   "source": [
    "query = \"SELECT * FROM `gabinete-compartilhado.analise_congresso_poder.camara_cargos_score`\"\n",
    "\n",
    "rcargos = pd.read_gbq(query, project_id='gabinete-compartilhado', \n",
    "                dialect='standard',\n",
    "                private_key='../keys-configs/gabinete-compartilhado.json')"
   ]
  },
  {
   "cell_type": "code",
   "execution_count": 62,
   "metadata": {},
   "outputs": [],
   "source": [
    "query = \"SELECT * FROM `gabinete-compartilhado.analise_congresso_poder.camara_lideracas_score`\"\n",
    "\n",
    "rlider = pd.read_gbq(query, project_id='gabinete-compartilhado', \n",
    "                dialect='standard',\n",
    "                private_key='../keys-configs/gabinete-compartilhado.json')"
   ]
  },
  {
   "cell_type": "code",
   "execution_count": null,
   "metadata": {},
   "outputs": [],
   "source": [
    "#rcargos = pd.read_csv('../dados/cargos/cargos_2019-04-17.csv')"
   ]
  },
  {
   "cell_type": "markdown",
   "metadata": {},
   "source": [
    "### Exploração"
   ]
  },
  {
   "cell_type": "markdown",
   "metadata": {},
   "source": [
    "#### Base Cargos"
   ]
  },
  {
   "cell_type": "code",
   "execution_count": 254,
   "metadata": {},
   "outputs": [
    {
     "name": "stdout",
     "output_type": "stream",
     "text": [
      "\u001b[1m-- Cargos --\u001b[0m\n",
      "\u001b[1m5\u001b[0m:cargo\u001b[1;34m | \u001b[0mdata_fim\u001b[1;34m | \u001b[0mdata_inicio\u001b[1;34m | \u001b[0mid_deputado\u001b[1;34m | \u001b[0mscore\n"
     ]
    }
   ],
   "source": [
    "print xu.Bold('-- Cargos --')\n",
    "xu.unique(rcargos.columns)"
   ]
  },
  {
   "cell_type": "code",
   "execution_count": 255,
   "metadata": {},
   "outputs": [
    {
     "data": {
      "text/plain": [
       "data_inicio    datetime64[ns]\n",
       "data_fim       datetime64[ns]\n",
       "id_deputado             int64\n",
       "cargo                  object\n",
       "score                 float64\n",
       "dtype: object"
      ]
     },
     "execution_count": 255,
     "metadata": {},
     "output_type": "execute_result"
    }
   ],
   "source": [
    "rcargos.dtypes"
   ]
  },
  {
   "cell_type": "code",
   "execution_count": 67,
   "metadata": {},
   "outputs": [
    {
     "name": "stdout",
     "output_type": "stream",
     "text": [
      "\u001b[1mColunas com valores faltantes:\u001b[0m\n",
      "Empty DataFrame\n",
      "Columns: [coluna, N, %]\n",
      "Index: []\n"
     ]
    }
   ],
   "source": [
    "xu.checkMissing(rcargos)"
   ]
  },
  {
   "cell_type": "code",
   "execution_count": 69,
   "metadata": {},
   "outputs": [
    {
     "name": "stdout",
     "output_type": "stream",
     "text": [
      "\n",
      "\u001b[1mdata_inicio: \u001b[0m562 unique values.\n",
      "\u001b[1m(sample) \u001b[0m2001-03-20T00:00:00.000000000,  2001-03-28T00:00:00.000000000,  2001-04-03T00:00:00.000000000,  2001-11-19T00:00:00.000000000,  2005-11-29T00:00:00.000000000,  2009-12-08T00:00:00.000000000,  2011-06-09T00:00:00.000000000,  2013-03-20T00:00:00.000000000,  2014-04-10T00:00:00.000000000,  2014-04-22T00:00:00.000000000,  2015-03-10T00:00:00.000000000,  2015-03-23T00:00:00.000000000,  2015-09-22T00:00:00.000000000,  2015-11-24T00:00:00.000000000,  2016-02-16T00:00:00.000000000,  2016-05-02T00:00:00.000000000,  2016-05-03T00:00:00.000000000,  2016-06-20T00:00:00.000000000,  2017-11-09T00:00:00.000000000,  2019-04-15T00:00:00.000000000\n",
      "\n",
      "\u001b[1mdata_fim: \u001b[0m584 unique values.\n",
      "\u001b[1m(sample) \u001b[0m1999-09-14T00:00:00.000000000,  2001-04-20T00:00:00.000000000,  2001-05-24T00:00:00.000000000,  2005-03-31T00:00:00.000000000,  2005-06-02T00:00:00.000000000,  2005-11-22T00:00:00.000000000,  2007-10-05T00:00:00.000000000,  2011-08-24T00:00:00.000000000,  2012-11-22T00:00:00.000000000,  2013-11-26T00:00:00.000000000,  2015-03-12T00:00:00.000000000,  2015-08-04T00:00:00.000000000,  2015-09-10T00:00:00.000000000,  2016-05-02T00:00:00.000000000,  2016-06-08T00:00:00.000000000,  2016-07-16T00:00:00.000000000,  2016-12-28T00:00:00.000000000,  2017-08-02T00:00:00.000000000,  2017-09-22T00:00:00.000000000,  2017-10-20T00:00:00.000000000\n",
      "\n",
      "\u001b[1mid_deputado: \u001b[0m1114 unique values.\n",
      "\u001b[1m(sample) \u001b[0m6,  46,  4929,  73653,  73696,  74210,  74378,  74537,  74559,  80920,  92346,  141392,  141480,  141488,  141503,  160534,  178851,  178903,  178995,  204517\n",
      "\n",
      "\u001b[1mcargo: \u001b[0m9 unique values.\n",
      "Membro da Mesa,  Membro de Comissao Serie A - CCJC, CMO e CFT,  Membro de Comissao Serie B - CE, CETASP, CINDA, CREDEN, CSSF, CCTCI, CVT, CMADS, CSPCCO, CME, CAPADR, CDC, CDEIC,  Membro de Comissao Serie C - Resto,  Presidencia Comissao Serie A  - CCJC, CMO e CFT,  Presidencia Comissao Serie B - CE, CETASP, CINDA, CREDEN, CSSF, CCTCI, CVT, CMADS, CSPCCO, CME, CAPADR, CDC, CDEIC,  Presidencia de Comissao Serie C - Resto,  Presidente CPI,  Relator de Comissao Especial\n",
      "\n",
      "\u001b[1mscore: \u001b[0m8 unique values.\n",
      "0.3,  1.0,  1.5,  1.9,  2.5,  2.6,  2.8,  3.5\n"
     ]
    }
   ],
   "source": [
    "xu.mapUnique(rcargos)"
   ]
  },
  {
   "cell_type": "markdown",
   "metadata": {},
   "source": [
    "#### Base Lideranças"
   ]
  },
  {
   "cell_type": "code",
   "execution_count": 256,
   "metadata": {},
   "outputs": [
    {
     "name": "stdout",
     "output_type": "stream",
     "text": [
      "\u001b[1m-- Lideranças --\u001b[0m\n",
      "\u001b[1m7\u001b[0m:cargo\u001b[1;34m | \u001b[0mid_cargo\u001b[1;34m | \u001b[0mid_deputado\u001b[1;34m | \u001b[0mscore\u001b[1;34m | \u001b[0msigla_bloco\u001b[1;34m | \u001b[0mtimestamp\u001b[1;34m | \u001b[0mtotal_membros\n"
     ]
    }
   ],
   "source": [
    "print xu.Bold('-- Lideranças --')\n",
    "xu.unique(rlider.columns)"
   ]
  },
  {
   "cell_type": "code",
   "execution_count": 66,
   "metadata": {},
   "outputs": [
    {
     "data": {
      "text/plain": [
       "timestamp        datetime64[ns]\n",
       "id_deputado             float64\n",
       "id_cargo                  int64\n",
       "sigla_bloco              object\n",
       "total_membros           float64\n",
       "cargo                    object\n",
       "score                   float64\n",
       "dtype: object"
      ]
     },
     "execution_count": 66,
     "metadata": {},
     "output_type": "execute_result"
    }
   ],
   "source": [
    "rlider.dtypes"
   ]
  },
  {
   "cell_type": "code",
   "execution_count": 68,
   "metadata": {},
   "outputs": [
    {
     "name": "stdout",
     "output_type": "stream",
     "text": [
      "\u001b[1mColunas com valores faltantes:\u001b[0m\n",
      "          coluna   N      %\n",
      "1    id_deputado  15   2.67\n",
      "4  total_membros  81  14.44\n"
     ]
    }
   ],
   "source": [
    "xu.checkMissing(rlider)"
   ]
  },
  {
   "cell_type": "code",
   "execution_count": 257,
   "metadata": {},
   "outputs": [
    {
     "name": "stdout",
     "output_type": "stream",
     "text": [
      "\n",
      "\u001b[1mtimestamp: \u001b[0m3 unique values.\n",
      "2019-04-16T00:00:00.000000000,  2019-04-17T00:00:00.000000000,  2019-04-18T00:00:00.000000000\n",
      "\n",
      "\u001b[1mid_deputado: \u001b[0m181 unique values.\n",
      "\u001b[1m(sample) \u001b[0m73891.0,  74161.0,  74262.0,  74471.0,  151208.0,  160665.0,  164359.0,  178832.0,  178854.0,  178930.0,  178959.0,  204423.0,  204441.0,  204447.0,  204449.0,  204472.0,  204520.0,  204546.0,  204556.0,  204558.0\n",
      "\n",
      "\u001b[1mid_cargo: \u001b[0m3 unique values.\n",
      "2,  3,  4\n",
      "\n",
      "\u001b[1msigla_bloco: \u001b[0m33 unique values.\n",
      "\u001b[1m(sample) \u001b[0mBloco PDT, AVANTE,  Bloco PP, MDB, PTB,  CIDADANIA,  DEM,  Governo,  MDB,  Maioria,  NOVO,  Oposição,  PATRI,  PDT,  PMN,  PODE,  PP,  PR,  PRB,  PROS,  PSC,  PSD,  PT\n",
      "\n",
      "\u001b[1mtotal_membros: \u001b[0m22 unique values.\n",
      "\u001b[1m(sample) \u001b[0m3.0,  6.0,  12.0,  21.0,  24.0,  30.0,  33.0,  42.0,  81.0,  84.0,  90.0,  93.0,  96.0,  105.0,  108.0,  114.0,  162.0,  165.0,  252.0,  nan\n",
      "\n",
      "\u001b[1mcargo: \u001b[0m3 unique values.\n",
      "Lider Governo Camara,  Lider de Partido/Bloco,  Vice Lider\n",
      "\n",
      "\u001b[1mscore: \u001b[0m3 unique values.\n",
      "2.3,  3.6,  3.7\n"
     ]
    }
   ],
   "source": [
    "xu.mapUnique(rlider)"
   ]
  },
  {
   "cell_type": "markdown",
   "metadata": {},
   "source": [
    "#### Base orgaos (bruta)"
   ]
  },
  {
   "cell_type": "code",
   "execution_count": null,
   "metadata": {},
   "outputs": [],
   "source": []
  },
  {
   "cell_type": "markdown",
   "metadata": {},
   "source": [
    "### Pesos dos cargos e lideranças"
   ]
  },
  {
   "cell_type": "code",
   "execution_count": 70,
   "metadata": {},
   "outputs": [
    {
     "data": {
      "text/html": [
       "<div>\n",
       "<style scoped>\n",
       "    .dataframe tbody tr th:only-of-type {\n",
       "        vertical-align: middle;\n",
       "    }\n",
       "\n",
       "    .dataframe tbody tr th {\n",
       "        vertical-align: top;\n",
       "    }\n",
       "\n",
       "    .dataframe thead th {\n",
       "        text-align: right;\n",
       "    }\n",
       "</style>\n",
       "<table border=\"1\" class=\"dataframe\">\n",
       "  <thead>\n",
       "    <tr style=\"text-align: right;\">\n",
       "      <th></th>\n",
       "      <th>cargo</th>\n",
       "      <th>score</th>\n",
       "    </tr>\n",
       "  </thead>\n",
       "  <tbody>\n",
       "    <tr>\n",
       "      <th>1364</th>\n",
       "      <td>Presidencia Comissao Serie A  - CCJC, CMO e CFT</td>\n",
       "      <td>3.5</td>\n",
       "    </tr>\n",
       "    <tr>\n",
       "      <th>0</th>\n",
       "      <td>Membro da Mesa</td>\n",
       "      <td>2.8</td>\n",
       "    </tr>\n",
       "    <tr>\n",
       "      <th>56</th>\n",
       "      <td>Presidente CPI</td>\n",
       "      <td>2.8</td>\n",
       "    </tr>\n",
       "    <tr>\n",
       "      <th>3456</th>\n",
       "      <td>Presidencia Comissao Serie B - CE, CETASP, CIN...</td>\n",
       "      <td>2.6</td>\n",
       "    </tr>\n",
       "    <tr>\n",
       "      <th>64</th>\n",
       "      <td>Relator de Comissao Especial</td>\n",
       "      <td>2.5</td>\n",
       "    </tr>\n",
       "    <tr>\n",
       "      <th>717</th>\n",
       "      <td>Membro de Comissao Serie A - CCJC, CMO e CFT</td>\n",
       "      <td>1.9</td>\n",
       "    </tr>\n",
       "    <tr>\n",
       "      <th>698</th>\n",
       "      <td>Presidencia de Comissao Serie C - Resto</td>\n",
       "      <td>1.5</td>\n",
       "    </tr>\n",
       "    <tr>\n",
       "      <th>1374</th>\n",
       "      <td>Membro de Comissao Serie B - CE, CETASP, CINDA...</td>\n",
       "      <td>1.0</td>\n",
       "    </tr>\n",
       "    <tr>\n",
       "      <th>104</th>\n",
       "      <td>Membro de Comissao Serie C - Resto</td>\n",
       "      <td>0.3</td>\n",
       "    </tr>\n",
       "  </tbody>\n",
       "</table>\n",
       "</div>"
      ],
      "text/plain": [
       "                                                  cargo  score\n",
       "1364    Presidencia Comissao Serie A  - CCJC, CMO e CFT    3.5\n",
       "0                                        Membro da Mesa    2.8\n",
       "56                                       Presidente CPI    2.8\n",
       "3456  Presidencia Comissao Serie B - CE, CETASP, CIN...    2.6\n",
       "64                         Relator de Comissao Especial    2.5\n",
       "717        Membro de Comissao Serie A - CCJC, CMO e CFT    1.9\n",
       "698             Presidencia de Comissao Serie C - Resto    1.5\n",
       "1374  Membro de Comissao Serie B - CE, CETASP, CINDA...    1.0\n",
       "104                  Membro de Comissao Serie C - Resto    0.3"
      ]
     },
     "execution_count": 70,
     "metadata": {},
     "output_type": "execute_result"
    }
   ],
   "source": [
    "rcargos[['cargo','score']].drop_duplicates().sort_values('score',ascending=False)"
   ]
  },
  {
   "cell_type": "code",
   "execution_count": 71,
   "metadata": {},
   "outputs": [
    {
     "data": {
      "text/html": [
       "<div>\n",
       "<style scoped>\n",
       "    .dataframe tbody tr th:only-of-type {\n",
       "        vertical-align: middle;\n",
       "    }\n",
       "\n",
       "    .dataframe tbody tr th {\n",
       "        vertical-align: top;\n",
       "    }\n",
       "\n",
       "    .dataframe thead th {\n",
       "        text-align: right;\n",
       "    }\n",
       "</style>\n",
       "<table border=\"1\" class=\"dataframe\">\n",
       "  <thead>\n",
       "    <tr style=\"text-align: right;\">\n",
       "      <th></th>\n",
       "      <th>cargo</th>\n",
       "      <th>score</th>\n",
       "    </tr>\n",
       "  </thead>\n",
       "  <tbody>\n",
       "    <tr>\n",
       "      <th>366</th>\n",
       "      <td>Lider Governo Camara</td>\n",
       "      <td>3.7</td>\n",
       "    </tr>\n",
       "    <tr>\n",
       "      <th>0</th>\n",
       "      <td>Lider de Partido/Bloco</td>\n",
       "      <td>3.6</td>\n",
       "    </tr>\n",
       "    <tr>\n",
       "      <th>3</th>\n",
       "      <td>Vice Lider</td>\n",
       "      <td>2.3</td>\n",
       "    </tr>\n",
       "  </tbody>\n",
       "</table>\n",
       "</div>"
      ],
      "text/plain": [
       "                      cargo  score\n",
       "366    Lider Governo Camara    3.7\n",
       "0    Lider de Partido/Bloco    3.6\n",
       "3                Vice Lider    2.3"
      ]
     },
     "execution_count": 71,
     "metadata": {},
     "output_type": "execute_result"
    }
   ],
   "source": [
    "rlider[['cargo','score']].drop_duplicates().sort_values('score',ascending=False)"
   ]
  },
  {
   "cell_type": "markdown",
   "metadata": {},
   "source": [
    "### Análise do número de cargos por deputado"
   ]
  },
  {
   "cell_type": "code",
   "execution_count": 259,
   "metadata": {},
   "outputs": [],
   "source": [
    "# Função para selecionar cargos ativos num certo período:\n",
    "def activeInPeriod(df, start, end):\n",
    "    if np.any(df.columns.values=='data_inicio') and np.any(df.columns.values=='data_fim'):\n",
    "        return df.loc[(df.data_fim>=start) & (df.data_inicio<=end)]\n",
    "    if np.any(df.columns.values=='dataInicio') and np.any(df.columns.values=='dataFim'):\n",
    "        return df.loc[(df.dataFim>=start) & (df.dataInicio<=end)]"
   ]
  },
  {
   "cell_type": "code",
   "execution_count": 113,
   "metadata": {},
   "outputs": [],
   "source": [
    "orgaosActive = activeInPeriod(rorgaos,'2019-02-01','2019-04-23').sort_values('id_deputado')\n",
    "cargosActive = activeInPeriod(rcargos,'2019-02-01','2019-04-23').sort_values('id_deputado')"
   ]
  },
  {
   "cell_type": "code",
   "execution_count": 260,
   "metadata": {},
   "outputs": [],
   "source": [
    "# Teste para verificar quais cargos e deputados aparecem nas bases:\n",
    "\n",
    "#idList = orgaosActive.loc[orgaosActive.titulo!='Suplente'].id_deputado.unique()\n",
    "#t=6\n",
    "#cargosActive.loc[cargosActive.id_deputado==idList[t]][['id_deputado','cargo','score','data_inicio','data_fim']]\n",
    "#orgaosActive.loc[(orgaosActive.titulo!='Suplente')&(orgaosActive.id_deputado==idList[t])]\\\n",
    "#[['id_deputado','siglaOrgao','titulo','dataInicio','dataFim']]"
   ]
  },
  {
   "cell_type": "code",
   "execution_count": null,
   "metadata": {},
   "outputs": [],
   "source": [
    "# Vimos que a CESPO - Comissão do Esporte - não é contabilizada na base cargos.\n",
    "#rorgaos.loc[rorgaos.siglaOrgao=='CESPO']"
   ]
  },
  {
   "cell_type": "code",
   "execution_count": 261,
   "metadata": {},
   "outputs": [],
   "source": [
    "def nCargosPreenchidos(ano):\n",
    "    return len(activeInPeriod(rcargos, str(ano)+'-02-01', str(ano)+'-04-16')[['id_deputado','cargo']])"
   ]
  },
  {
   "cell_type": "code",
   "execution_count": 262,
   "metadata": {},
   "outputs": [],
   "source": [
    "anos         = np.arange(1990,2020)\n",
    "nCargosByAno = np.array([nCargosPreenchidos(a) for a in anos])"
   ]
  },
  {
   "cell_type": "code",
   "execution_count": 263,
   "metadata": {},
   "outputs": [
    {
     "data": {
      "image/png": "[encoded data removed]",
      "text/plain": [
       "<Figure size 432x288 with 1 Axes>"
      ]
     },
     "metadata": {
      "needs_background": "light"
     },
     "output_type": "display_data"
    }
   ],
   "source": [
    "pl.plot(anos, nCargosByAno,'r-')\n",
    "pl.plot(anos, nCargosByAno,'r.')\n",
    "pl.axvline(2019,color='gray',linestyle='--')\n",
    "pl.axvline(2015,color='gray',linestyle='--')\n",
    "pl.axvline(2011,color='gray',linestyle='--')\n",
    "pl.axvline(2007,color='gray',linestyle='--')\n",
    "pl.axvline(2003,color='gray',linestyle='--')\n",
    "pl.axvline(1999,color='gray',linestyle='--')\n",
    "pl.show()"
   ]
  },
  {
   "cell_type": "code",
   "execution_count": 264,
   "metadata": {},
   "outputs": [],
   "source": [
    "def nOrgaosPreenchidos(ano):\n",
    "    return len(activeInPeriod(rorgaos.loc[rorgaos.titulo!='Suplente'], \n",
    "                              str(ano)+'-02-01', str(ano)+'-04-18')[['id_deputado','siglaOrgao']])"
   ]
  },
  {
   "cell_type": "code",
   "execution_count": 265,
   "metadata": {},
   "outputs": [],
   "source": [
    "anos         = np.arange(1990,2020)\n",
    "nOrgaosByAno = np.array([nOrgaosPreenchidos(a) for a in anos])"
   ]
  },
  {
   "cell_type": "code",
   "execution_count": 266,
   "metadata": {},
   "outputs": [
    {
     "data": {
      "image/png": "[encoded data removed]",
      "text/plain": [
       "<Figure size 432x288 with 1 Axes>"
      ]
     },
     "metadata": {
      "needs_background": "light"
     },
     "output_type": "display_data"
    }
   ],
   "source": [
    "pl.plot(anos, nOrgaosByAno,'r-')\n",
    "pl.plot(anos, nOrgaosByAno,'r.')\n",
    "pl.axvline(2019,color='gray',linestyle='--')\n",
    "pl.axvline(2015,color='gray',linestyle='--')\n",
    "pl.axvline(2011,color='gray',linestyle='--')\n",
    "pl.axvline(2007,color='gray',linestyle='--')\n",
    "pl.axvline(2003,color='gray',linestyle='--')\n",
    "pl.axvline(1999,color='gray',linestyle='--')\n",
    "pl.show()"
   ]
  }
 ],
 "metadata": {
  "kernelspec": {
   "display_name": "Python 2",
   "language": "python",
   "name": "python2"
  },
  "language_info": {
   "codemirror_mode": {
    "name": "ipython",
    "version": 2
   },
   "file_extension": ".py",
   "mimetype": "text/x-python",
   "name": "python",
   "nbconvert_exporter": "python",
   "pygments_lexer": "ipython2",
   "version": "2.7.15"
  }
 },
 "nbformat": 4,
 "nbformat_minor": 2
}

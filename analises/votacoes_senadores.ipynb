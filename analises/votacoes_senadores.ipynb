{
 "cells": [
  {
   "cell_type": "code",
   "execution_count": 1,
   "metadata": {},
   "outputs": [
    {
     "data": {
      "application/javascript": [
       "IPython.notebook.set_autosave_interval(1000000000)"
      ]
     },
     "metadata": {},
     "output_type": "display_data"
    },
    {
     "name": "stdout",
     "output_type": "stream",
     "text": [
      "Autosaving every 1000000 seconds\n"
     ]
    }
   ],
   "source": [
    "import pandas as pd\n",
    "import numpy as np\n",
    "import matplotlib.pyplot as pl\n",
    "import xavierUtils as xu\n",
    "from matplotlib.ticker import MaxNLocator\n",
    "from matplotlib import lines\n",
    "import matplotlib.colors as colors \n",
    "from matplotlib.patches import Patch\n",
    "import datetime as dt\n",
    "from IPython.display import display\n",
    "%autosave 1000000"
   ]
  },
  {
   "cell_type": "markdown",
   "metadata": {},
   "source": [
    "### Funções "
   ]
  },
  {
   "cell_type": "code",
   "execution_count": null,
   "metadata": {},
   "outputs": [],
   "source": []
  },
  {
   "cell_type": "markdown",
   "metadata": {},
   "source": [
    "### Carrega dados"
   ]
  },
  {
   "cell_type": "code",
   "execution_count": 2,
   "metadata": {},
   "outputs": [],
   "source": [
    "# Dados de votações:\n",
    "initial_date = '2019-02-01'\n",
    "final_date   = '2019-05-10'\n",
    "query = 'SELECT * FROM `gabinete-compartilhado.analise_congresso_votacoes.senado_orientacao_senadores_tab` \\\n",
    "WHERE data_displaced BETWEEN DATE \\'{}\\' AND DATE \\'{}\\''.format(initial_date, final_date)\n",
    "\n",
    "r = pd.read_gbq(query, project_id='gabinete-compartilhado', \n",
    "                dialect='standard',\n",
    "                private_key='../../keys-configs/gabinete-compartilhado-42394b04e230.json')"
   ]
  },
  {
   "cell_type": "code",
   "execution_count": 3,
   "metadata": {},
   "outputs": [],
   "source": [
    "def countDuplicates(df):\n",
    "    ndup = len(df.loc[df.duplicated()])\n",
    "    return len(df), ndup, float()/len(df)"
   ]
  },
  {
   "cell_type": "code",
   "execution_count": 4,
   "metadata": {},
   "outputs": [
    {
     "name": "stdout",
     "output_type": "stream",
     "text": [
      "\u001b[1m17\u001b[0m: DataSessao\u001b[1;34m | \u001b[0mDescricaoResultado\u001b[1;34m | \u001b[0mDescricaoVoto\u001b[1;34m | \u001b[0mano\u001b[1;34m | \u001b[0mapoio\u001b[1;34m | \u001b[0mdata_displaced\u001b[1;34m | \u001b[0mid_lider_gov\u001b[1;34m | \u001b[0mid_senador\u001b[1;34m | \u001b[0mlegislatura\u001b[1;34m | \u001b[0mnome_senador\u001b[1;34m | \u001b[0mnum_votacao\u001b[1;34m | \u001b[0mpartido_senador\u001b[1;34m | \u001b[0mtipoMateria\u001b[1;34m | \u001b[0mvotacaoSecreta\u001b[1;34m | \u001b[0mvoto_bool\u001b[1;34m | \u001b[0mvoto_bool_lider_gov\u001b[1;34m | \u001b[0mvoto_lider_gov\n"
     ]
    }
   ],
   "source": [
    "xu.unique(r.columns)"
   ]
  },
  {
   "cell_type": "code",
   "execution_count": 5,
   "metadata": {},
   "outputs": [
    {
     "name": "stdout",
     "output_type": "stream",
     "text": [
      "5440 5440 1.0\n",
      "(5440, 0, 0.0)\n"
     ]
    }
   ],
   "source": [
    "# Preenche partidos faltantes com 'sem partido':\n",
    "# Reseta indice:\n",
    "# Remove votações duplicadas:\n",
    "v = r.reset_index(drop=True)\n",
    "v = v.drop_duplicates()\n",
    "\n",
    "\n",
    "v['partido_senador'] = v[['partido_senador']].fillna('S.PART.')['partido_senador']\n",
    "print len(r), len(v), float(len(v))/len(r)\n",
    "print countDuplicates(v)"
   ]
  },
  {
   "cell_type": "code",
   "execution_count": 6,
   "metadata": {},
   "outputs": [
    {
     "name": "stdout",
     "output_type": "stream",
     "text": [
      "\u001b[1m17\u001b[0m: DataSessao\u001b[1;34m | \u001b[0mDescricaoResultado\u001b[1;34m | \u001b[0mDescricaoVoto\u001b[1;34m | \u001b[0mano\u001b[1;34m | \u001b[0mapoio\u001b[1;34m | \u001b[0mdata_displaced\u001b[1;34m | \u001b[0mid_lider_gov\u001b[1;34m | \u001b[0mid_senador\u001b[1;34m | \u001b[0mlegislatura\u001b[1;34m | \u001b[0mnome_senador\u001b[1;34m | \u001b[0mnum_votacao\u001b[1;34m | \u001b[0mpartido_senador\u001b[1;34m | \u001b[0mtipoMateria\u001b[1;34m | \u001b[0mvotacaoSecreta\u001b[1;34m | \u001b[0mvoto_bool\u001b[1;34m | \u001b[0mvoto_bool_lider_gov\u001b[1;34m | \u001b[0mvoto_lider_gov\n"
     ]
    }
   ],
   "source": [
    "xu.unique(v.columns)"
   ]
  },
  {
   "cell_type": "markdown",
   "metadata": {},
   "source": [
    "### Exploração"
   ]
  },
  {
   "cell_type": "code",
   "execution_count": 9,
   "metadata": {},
   "outputs": [
    {
     "data": {
      "text/html": [
       "<div>\n",
       "<style scoped>\n",
       "    .dataframe tbody tr th:only-of-type {\n",
       "        vertical-align: middle;\n",
       "    }\n",
       "\n",
       "    .dataframe tbody tr th {\n",
       "        vertical-align: top;\n",
       "    }\n",
       "\n",
       "    .dataframe thead th {\n",
       "        text-align: right;\n",
       "    }\n",
       "</style>\n",
       "<table border=\"1\" class=\"dataframe\">\n",
       "  <thead>\n",
       "    <tr style=\"text-align: right;\">\n",
       "      <th></th>\n",
       "      <th>id_senador</th>\n",
       "      <th>nome_senador</th>\n",
       "    </tr>\n",
       "  </thead>\n",
       "  <tbody>\n",
       "  </tbody>\n",
       "</table>\n",
       "</div>"
      ],
      "text/plain": [
       "Empty DataFrame\n",
       "Columns: [id_senador, nome_senador]\n",
       "Index: []"
      ]
     },
     "execution_count": 9,
     "metadata": {},
     "output_type": "execute_result"
    }
   ],
   "source": [
    "r.loc[(r.partido_senador.isnull())&(r.legislatura==56)][['id_senador','nome_senador']].drop_duplicates()"
   ]
  },
  {
   "cell_type": "code",
   "execution_count": 10,
   "metadata": {},
   "outputs": [
    {
     "name": "stdout",
     "output_type": "stream",
     "text": [
      "\u001b[1mColunas com valores faltantes:\u001b[0m\n",
      "             coluna    N      %\n",
      "10  partido_senador  820  15.07\n"
     ]
    }
   ],
   "source": [
    "xu.checkMissing(r)"
   ]
  },
  {
   "cell_type": "code",
   "execution_count": 11,
   "metadata": {},
   "outputs": [
    {
     "data": {
      "text/html": [
       "<div>\n",
       "<style scoped>\n",
       "    .dataframe tbody tr th:only-of-type {\n",
       "        vertical-align: middle;\n",
       "    }\n",
       "\n",
       "    .dataframe tbody tr th {\n",
       "        vertical-align: top;\n",
       "    }\n",
       "\n",
       "    .dataframe thead th {\n",
       "        text-align: right;\n",
       "    }\n",
       "</style>\n",
       "<table border=\"1\" class=\"dataframe\">\n",
       "  <thead>\n",
       "    <tr style=\"text-align: right;\">\n",
       "      <th></th>\n",
       "      <th>legislatura</th>\n",
       "      <th>nome_senador</th>\n",
       "      <th>partido_senador</th>\n",
       "    </tr>\n",
       "  </thead>\n",
       "  <tbody>\n",
       "    <tr>\n",
       "      <th>2365</th>\n",
       "      <td>52</td>\n",
       "      <td>Augusto Botelho</td>\n",
       "      <td>S.PART.</td>\n",
       "    </tr>\n",
       "    <tr>\n",
       "      <th>2368</th>\n",
       "      <td>52</td>\n",
       "      <td>Demóstenes Torres</td>\n",
       "      <td>S.PART.</td>\n",
       "    </tr>\n",
       "    <tr>\n",
       "      <th>2476</th>\n",
       "      <td>52</td>\n",
       "      <td>Delcídio do Amaral</td>\n",
       "      <td>S.PART.</td>\n",
       "    </tr>\n",
       "    <tr>\n",
       "      <th>2876</th>\n",
       "      <td>53</td>\n",
       "      <td>Augusto Botelho</td>\n",
       "      <td>S.PART.</td>\n",
       "    </tr>\n",
       "    <tr>\n",
       "      <th>2878</th>\n",
       "      <td>53</td>\n",
       "      <td>Demóstenes Torres</td>\n",
       "      <td>S.PART.</td>\n",
       "    </tr>\n",
       "    <tr>\n",
       "      <th>2934</th>\n",
       "      <td>53</td>\n",
       "      <td>Delcídio do Amaral</td>\n",
       "      <td>S.PART.</td>\n",
       "    </tr>\n",
       "    <tr>\n",
       "      <th>3285</th>\n",
       "      <td>54</td>\n",
       "      <td>Delcídio do Amaral</td>\n",
       "      <td>S.PART.</td>\n",
       "    </tr>\n",
       "    <tr>\n",
       "      <th>3343</th>\n",
       "      <td>54</td>\n",
       "      <td>Walter Pinheiro</td>\n",
       "      <td>S.PART.</td>\n",
       "    </tr>\n",
       "    <tr>\n",
       "      <th>3350</th>\n",
       "      <td>54</td>\n",
       "      <td>Demóstenes Torres</td>\n",
       "      <td>S.PART.</td>\n",
       "    </tr>\n",
       "    <tr>\n",
       "      <th>3920</th>\n",
       "      <td>55</td>\n",
       "      <td>Walter Pinheiro</td>\n",
       "      <td>S.PART.</td>\n",
       "    </tr>\n",
       "    <tr>\n",
       "      <th>3932</th>\n",
       "      <td>55</td>\n",
       "      <td>Reguffe</td>\n",
       "      <td>S.PART.</td>\n",
       "    </tr>\n",
       "    <tr>\n",
       "      <th>3944</th>\n",
       "      <td>55</td>\n",
       "      <td>Delcídio do Amaral</td>\n",
       "      <td>S.PART.</td>\n",
       "    </tr>\n",
       "    <tr>\n",
       "      <th>4716</th>\n",
       "      <td>56</td>\n",
       "      <td>Reguffe</td>\n",
       "      <td>S.PART.</td>\n",
       "    </tr>\n",
       "  </tbody>\n",
       "</table>\n",
       "</div>"
      ],
      "text/plain": [
       "      legislatura        nome_senador partido_senador\n",
       "2365           52     Augusto Botelho         S.PART.\n",
       "2368           52   Demóstenes Torres         S.PART.\n",
       "2476           52  Delcídio do Amaral         S.PART.\n",
       "2876           53     Augusto Botelho         S.PART.\n",
       "2878           53   Demóstenes Torres         S.PART.\n",
       "2934           53  Delcídio do Amaral         S.PART.\n",
       "3285           54  Delcídio do Amaral         S.PART.\n",
       "3343           54     Walter Pinheiro         S.PART.\n",
       "3350           54   Demóstenes Torres         S.PART.\n",
       "3920           55     Walter Pinheiro         S.PART.\n",
       "3932           55             Reguffe         S.PART.\n",
       "3944           55  Delcídio do Amaral         S.PART.\n",
       "4716           56             Reguffe         S.PART."
      ]
     },
     "execution_count": 11,
     "metadata": {},
     "output_type": "execute_result"
    }
   ],
   "source": [
    "r.loc[r.partido_senador=='S.PART.'][['legislatura','nome_senador','partido_senador']].drop_duplicates()"
   ]
  },
  {
   "cell_type": "code",
   "execution_count": 12,
   "metadata": {},
   "outputs": [
    {
     "name": "stdout",
     "output_type": "stream",
     "text": [
      "\n",
      "\u001b[1mnum_votacao: \u001b[0m94 unique values.\n",
      "\u001b[1m(sample) \u001b[0m154,  155,  156,  163,  167,  734,  748,  752,  1112,  1625,  1637,  2159,  2171,  2172,  2175,  2702,  2704,  3265,  3271,  3276\n",
      "\n",
      "\u001b[1mlegislatura: \u001b[0m7 unique values.\n",
      "50,  51,  52,  53,  54,  55,  56\n",
      "\n",
      "\u001b[1mano: \u001b[0m7 unique values.\n",
      "1995,  1999,  2003,  2007,  2011,  2015,  2019\n",
      "\n",
      "\u001b[1mdata_displaced: \u001b[0m34 unique values.\n",
      "\u001b[1m(sample) \u001b[0m2019-02-22T00:00:00.000000000,  2019-02-28T00:00:00.000000000,  2019-03-03T00:00:00.000000000,  2019-03-04T00:00:00.000000000,  2019-03-09T00:00:00.000000000,  2019-03-10T00:00:00.000000000,  2019-03-12T00:00:00.000000000,  2019-03-19T00:00:00.000000000,  2019-03-24T00:00:00.000000000,  2019-03-25T00:00:00.000000000,  2019-03-27T00:00:00.000000000,  2019-04-02T00:00:00.000000000,  2019-04-09T00:00:00.000000000,  2019-04-16T00:00:00.000000000,  2019-04-19T00:00:00.000000000,  2019-04-20T00:00:00.000000000,  2019-04-26T00:00:00.000000000,  2019-04-28T00:00:00.000000000,  2019-05-06T00:00:00.000000000,  2019-05-07T00:00:00.000000000\n",
      "\n",
      "\u001b[1mDataSessao: \u001b[0m37 unique values.\n",
      "\u001b[1m(sample) \u001b[0m1995-02-22T00:00:00.000000000,  1995-04-26T00:00:00.000000000,  1999-03-03T00:00:00.000000000,  1999-04-19T00:00:00.000000000,  2003-03-13T00:00:00.000000000,  2003-04-23T00:00:00.000000000,  2003-05-06T00:00:00.000000000,  2007-02-13T00:00:00.000000000,  2007-02-28T00:00:00.000000000,  2007-03-07T00:00:00.000000000,  2007-03-27T00:00:00.000000000,  2011-04-05T00:00:00.000000000,  2015-04-28T00:00:00.000000000,  2015-05-06T00:00:00.000000000,  2019-03-13T00:00:00.000000000,  2019-04-02T00:00:00.000000000,  2019-04-03T00:00:00.000000000,  2019-04-09T00:00:00.000000000,  2019-04-16T00:00:00.000000000,  2019-05-07T00:00:00.000000000\n",
      "\n",
      "\u001b[1mvotacaoSecreta: \u001b[0m1 unique values.\n",
      "Não\n",
      "\n",
      "\u001b[1mDescricaoResultado: \u001b[0m3 unique values.\n",
      "Aprovado,  Não Informado,  Rejeitado\n",
      "\n",
      "\u001b[1mtipoMateria: \u001b[0m11 unique values.\n",
      "DEN,  MPV,  PDS,  PEC,  PL,  PLC,  PLP,  PLS,  PLV,  PRS,  SCD\n",
      "\n",
      "\u001b[1mid_senador: \u001b[0m306 unique values.\n",
      "\u001b[1m(sample) \u001b[0m9,  14,  17,  20,  21,  41,  42,  79,  558,  604,  707,  1085,  3372,  3373,  3532,  4575,  4935,  5182,  5350,  5732\n",
      "\n",
      "\u001b[1mnome_senador: \u001b[0m306 unique values.\n",
      "\u001b[1m(sample) \u001b[0mArtur da Tavola,  Aécio Neves,  Benedita da Silva,  Cristovam Buarque,  Cícero Lucena,  Dário Berger,  Esperidião Amin,  Fernando Bezerra,  Geraldo Cândido,  José Fogaça,  João Tenório,  Luiz Estevão,  Lídice da Mata,  Marcio Bittar,  Pedro Taques,  Raimundo Colombo,  Renildo Santana,  Rodrigo Pacheco,  Wellington Fagundes,  Íris de Araújo\n",
      "\n",
      "\u001b[1mpartido_senador: \u001b[0m22 unique values.\n",
      "\u001b[1m(sample) \u001b[0mCidadania,  DEM,  MDB,  PDT,  PR,  PROS,  PSB,  PSC,  PSD,  PSDB,  PSL,  PSOL,  PT,  PTB,  PV,  Podemos,  Progressistas,  REDE,  S.PART.,  Solidariedade\n",
      "\n",
      "\u001b[1mDescricaoVoto: \u001b[0m3 unique values.\n",
      "Não,  Obstrução,  Sim\n",
      "\n",
      "\u001b[1mvoto_bool: \u001b[0m2 unique values.\n",
      "0,  1\n",
      "\n",
      "\u001b[1mid_lider_gov: \u001b[0m6 unique values.\n",
      "18,  73,  74,  845,  3360,  5540\n",
      "\n",
      "\u001b[1mvoto_lider_gov: \u001b[0m2 unique values.\n",
      "Não,  Sim\n",
      "\n",
      "\u001b[1mvoto_bool_lider_gov: \u001b[0m2 unique values.\n",
      "0,  1\n",
      "\n",
      "\u001b[1mapoio: \u001b[0m2 unique values.\n",
      "0,  1\n"
     ]
    }
   ],
   "source": [
    "xu.mapUnique(v)"
   ]
  },
  {
   "cell_type": "markdown",
   "metadata": {},
   "source": [
    "### Análise por partidos"
   ]
  },
  {
   "cell_type": "code",
   "execution_count": 9,
   "metadata": {},
   "outputs": [],
   "source": [
    "# Numa dada legislatura, fração de votos de um partido que concordam com o governo:\n",
    "def freqApoio(legisl,partido=None):\n",
    "    if partido==None:\n",
    "        s = v.loc[(v.legislatura==legisl)]['apoio']\n",
    "    else:\n",
    "        s = v.loc[(v.partido_senador==partido) & (v.legislatura==legisl)]['apoio']\n",
    "    if len(s)==0:\n",
    "        return float('NaN') \n",
    "    return xu.freq(s, 1)    \n",
    "\n",
    "# Determina se partido apoiou governo (% de votos > limiar) em todos os governos anteriores (com exceção da Dilma 2):\n",
    "# Partidos que só aparecem no governo atual são marcados com 0\n",
    "def fisiologicoQ(partido, limiar):\n",
    "    leg = [51,52,53,54,56]\n",
    "    f   = np.array([freqApoio(l,partido) for l in leg])\n",
    "    fPresente = f[np.isnan(f)==False]\n",
    "    if len(fPresente)==1:\n",
    "        return 0\n",
    "    if len(fPresente)>1 and np.all(fPresente>limiar):\n",
    "        return 1\n",
    "    else:\n",
    "        return -1"
   ]
  },
  {
   "cell_type": "code",
   "execution_count": 10,
   "metadata": {},
   "outputs": [],
   "source": [
    "partidosAtuais = v.loc[(v.legislatura==56)&(v.partido_senador.isnull()==False)].partido_senador.unique()"
   ]
  },
  {
   "cell_type": "code",
   "execution_count": 11,
   "metadata": {},
   "outputs": [],
   "source": [
    "apoioGoverno   = np.array([freqApoio(56,p) for p in partidosAtuais])"
   ]
  },
  {
   "cell_type": "code",
   "execution_count": 10,
   "metadata": {},
   "outputs": [],
   "source": [
    "fisiologico    = np.array([fisiologicoQ(p,0.8) for p in partidosAtuais])"
   ]
  },
  {
   "cell_type": "code",
   "execution_count": 10,
   "metadata": {},
   "outputs": [],
   "source": [
    "apoioAcredito  = xu.freq(v.loc[(v.nome_senador.isin(['Alessandro Vieira']))]['apoio'],1)\n",
    "apoioByPartido = pd.DataFrame({'partido':np.append(partidosAtuais,'Acredito'), \n",
    "                               'freq':np.append(apoioGoverno,apoioAcredito), \n",
    "                               'fisio':np.append(fisiologico,False)}).sort_values('freq').reset_index()"
   ]
  },
  {
   "cell_type": "code",
   "execution_count": 11,
   "metadata": {},
   "outputs": [],
   "source": [
    "# Sem Acredito:\n",
    "apoioByPartido = pd.DataFrame({'partido':partidosAtuais, \n",
    "                               'freq':apoioGoverno, \n",
    "                               'fisio':fisiologico}).sort_values('freq').reset_index()"
   ]
  },
  {
   "cell_type": "code",
   "execution_count": 12,
   "metadata": {},
   "outputs": [
    {
     "name": "stdout",
     "output_type": "stream",
     "text": [
      "\u001b[1m17\u001b[0m: DataSessao\u001b[1;34m | \u001b[0mDescricaoResultado\u001b[1;34m | \u001b[0mDescricaoVoto\u001b[1;34m | \u001b[0mano\u001b[1;34m | \u001b[0mapoio\u001b[1;34m | \u001b[0mdata_displaced\u001b[1;34m | \u001b[0mid_lider_gov\u001b[1;34m | \u001b[0mid_senador\u001b[1;34m | \u001b[0mlegislatura\u001b[1;34m | \u001b[0mnome_senador\u001b[1;34m | \u001b[0mnum_votacao\u001b[1;34m | \u001b[0mpartido_senador\u001b[1;34m | \u001b[0mtipoMateria\u001b[1;34m | \u001b[0mvotacaoSecreta\u001b[1;34m | \u001b[0mvoto_bool\u001b[1;34m | \u001b[0mvoto_bool_lider_gov\u001b[1;34m | \u001b[0mvoto_lider_gov\n"
     ]
    }
   ],
   "source": [
    "xu.columns(v)"
   ]
  },
  {
   "cell_type": "code",
   "execution_count": 13,
   "metadata": {},
   "outputs": [],
   "source": [
    "# Tamanho atual da bancada:\n",
    "NsenByPartido = v.loc[v.legislatura==56].sort_values('DataSessao')\\\n",
    "[['id_senador', 'partido_senador']].drop_duplicates(subset='id_senador', keep='last').groupby('partido_senador').size()\n",
    "#NsenByPartido = NsenByPartido.append(pd.Series([1],index=['Acredito']))\n",
    "NsenByPartido.name = 'nsenadores'"
   ]
  },
  {
   "cell_type": "code",
   "execution_count": 14,
   "metadata": {},
   "outputs": [
    {
     "name": "stdout",
     "output_type": "stream",
     "text": [
      "\u001b[1m81\u001b[0m: Acir Gurgacz\u001b[1;34m | \u001b[0mAlessandro Vieira\u001b[1;34m | \u001b[0mAlvaro Dias\u001b[1;34m | \u001b[0mAngelo Coronel\u001b[1;34m | \u001b[0mAntonio Anastasia\u001b[1;34m | \u001b[0mArolde de Oliveira\u001b[1;34m | \u001b[0mCarlos Viana\u001b[1;34m | \u001b[0mChico Rodrigues\u001b[1;34m | \u001b[0mCid Gomes\u001b[1;34m | \u001b[0mCiro Nogueira\u001b[1;34m | \u001b[0mConfúcio Moura\u001b[1;34m | \u001b[0mDaniella Ribeiro\u001b[1;34m | \u001b[0mDário Berger\u001b[1;34m | \u001b[0mEduardo Braga\u001b[1;34m | \u001b[0mEduardo Girão\u001b[1;34m | \u001b[0mEduardo Gomes\u001b[1;34m | \u001b[0mEliziane Gama\u001b[1;34m | \u001b[0mElmano Férrer\u001b[1;34m | \u001b[0mEsperidião Amin\u001b[1;34m | \u001b[0mFabiano Contarato\u001b[1;34m | \u001b[0mFernando Bezerra Coelho\u001b[1;34m | \u001b[0mFernando Collor\u001b[1;34m | \u001b[0mFlávio Arns\u001b[1;34m | \u001b[0mFlávio Bolsonaro\u001b[1;34m | \u001b[0mHumberto Costa\u001b[1;34m | \u001b[0mIrajá\u001b[1;34m | \u001b[0mIzalci Lucas\u001b[1;34m | \u001b[0mJader Barbalho\u001b[1;34m | \u001b[0mJaques Wagner\u001b[1;34m | \u001b[0mJarbas Vasconcelos\u001b[1;34m | \u001b[0mJayme Campos\u001b[1;34m | \u001b[0mJean Paul Prates\u001b[1;34m | \u001b[0mJorge Kajuru\u001b[1;34m | \u001b[0mJorginho Mello\u001b[1;34m | \u001b[0mJosé Maranhão\u001b[1;34m | \u001b[0mJosé Serra\u001b[1;34m | \u001b[0mJuíza Selma\u001b[1;34m | \u001b[0mKátia Abreu\u001b[1;34m | \u001b[0mLasier Martins\u001b[1;34m | \u001b[0mLeila Barros\u001b[1;34m | \u001b[0mLucas Barreto\u001b[1;34m | \u001b[0mLuis Carlos Heinze\u001b[1;34m | \u001b[0mLuiz do Carmo\u001b[1;34m | \u001b[0mMailza Gomes\u001b[1;34m | \u001b[0mMajor Olimpio\u001b[1;34m | \u001b[0mMara Gabrilli\u001b[1;34m | \u001b[0mMarcelo Castro\u001b[1;34m | \u001b[0mMarcio Bittar\u001b[1;34m | \u001b[0mMarcos Rogério\u001b[1;34m | \u001b[0mMarcos do Val\u001b[1;34m | \u001b[0mMaria do Carmo Alves\u001b[1;34m | \u001b[0mMecias de Jesus\u001b[1;34m | \u001b[0mNelsinho Trad\u001b[1;34m | \u001b[0mOmar Aziz\u001b[1;34m | \u001b[0mOriovisto Guimarães\u001b[1;34m | \u001b[0mOtto Alencar\u001b[1;34m | \u001b[0mPaulo Paim\u001b[1;34m | \u001b[0mPaulo Rocha\u001b[1;34m | \u001b[0mPlínio Valério\u001b[1;34m | \u001b[0mRandolfe Rodrigues\u001b[1;34m | \u001b[0mReguffe\u001b[1;34m | \u001b[0mRenan Calheiros\u001b[1;34m | \u001b[0mRenilde Bulhões\u001b[1;34m | \u001b[0mRoberto Rocha\u001b[1;34m | \u001b[0mRodrigo Cunha\u001b[1;34m | \u001b[0mRodrigo Pacheco\u001b[1;34m | \u001b[0mRogério Carvalho\u001b[1;34m | \u001b[0mRomário\u001b[1;34m | \u001b[0mRose de Freitas\u001b[1;34m | \u001b[0mSimone Tebet\u001b[1;34m | \u001b[0mSoraya Thronicke\u001b[1;34m | \u001b[0mStyvenson Valentim\u001b[1;34m | \u001b[0mSérgio Petecão\u001b[1;34m | \u001b[0mTasso Jereissati\u001b[1;34m | \u001b[0mTelmário Mota\u001b[1;34m | \u001b[0mVanderlan Cardoso\u001b[1;34m | \u001b[0mVeneziano Vital do Rêgo\u001b[1;34m | \u001b[0mWellington Fagundes\u001b[1;34m | \u001b[0mWeverton\u001b[1;34m | \u001b[0mZenaide Maia\u001b[1;34m | \u001b[0mZequinha Marinho\n"
     ]
    }
   ],
   "source": [
    "xu.unique(v.loc[v.legislatura==56].nome_senador)"
   ]
  },
  {
   "cell_type": "code",
   "execution_count": 14,
   "metadata": {},
   "outputs": [],
   "source": [
    "#pd.set_option('display.max_rows', 500)\n",
    "#v[v.legislatura==56][['partido_senador','nome_senador']].drop_duplicates()\\\n",
    "#.sort_values(['partido_senador','nome_senador'])"
   ]
  },
  {
   "cell_type": "code",
   "execution_count": 15,
   "metadata": {},
   "outputs": [
    {
     "data": {
      "text/plain": [
       "partido_senador\n",
       "Cidadania         3\n",
       "DEM               5\n",
       "MDB              13\n",
       "PDT               4\n",
       "PR                2\n",
       "PRB               1\n",
       "PROS              4\n",
       "PSB               3\n",
       "PSC               1\n",
       "PSD               9\n",
       "PSDB              8\n",
       "PSL               4\n",
       "PT                6\n",
       "Podemos           8\n",
       "Progressistas     6\n",
       "REDE              3\n",
       "S.PART.           1\n",
       "Name: nsenadores, dtype: int64"
      ]
     },
     "execution_count": 15,
     "metadata": {},
     "output_type": "execute_result"
    }
   ],
   "source": [
    "NsenByPartido"
   ]
  },
  {
   "cell_type": "code",
   "execution_count": 16,
   "metadata": {},
   "outputs": [],
   "source": [
    "# Número médio de votos em favor do governo, por partido:\n",
    "apoioEvotosByPartido = apoioByPartido.join(NsenByPartido,on='partido',how='outer')\n",
    "apoioEvotosByPartido['nvotosmedio'] = apoioEvotosByPartido.freq*apoioEvotosByPartido.nsenadores\n",
    "#apoioEvotosByPartido = apoioEvotosByPartido.sort_values('nvotosmedio').reset_index(drop=True)"
   ]
  },
  {
   "cell_type": "code",
   "execution_count": 17,
   "metadata": {},
   "outputs": [
    {
     "name": "stdout",
     "output_type": "stream",
     "text": [
      "\u001b[1m17\u001b[0m: DataSessao\u001b[1;34m | \u001b[0mDescricaoResultado\u001b[1;34m | \u001b[0mDescricaoVoto\u001b[1;34m | \u001b[0mano\u001b[1;34m | \u001b[0mapoio\u001b[1;34m | \u001b[0mdata_displaced\u001b[1;34m | \u001b[0mid_lider_gov\u001b[1;34m | \u001b[0mid_senador\u001b[1;34m | \u001b[0mlegislatura\u001b[1;34m | \u001b[0mnome_senador\u001b[1;34m | \u001b[0mnum_votacao\u001b[1;34m | \u001b[0mpartido_senador\u001b[1;34m | \u001b[0mtipoMateria\u001b[1;34m | \u001b[0mvotacaoSecreta\u001b[1;34m | \u001b[0mvoto_bool\u001b[1;34m | \u001b[0mvoto_bool_lider_gov\u001b[1;34m | \u001b[0mvoto_lider_gov\n"
     ]
    }
   ],
   "source": [
    "# debug\n",
    "xu.unique(v.columns)"
   ]
  },
  {
   "cell_type": "code",
   "execution_count": 22,
   "metadata": {},
   "outputs": [
    {
     "data": {
      "image/png": "[encoded data removed]",
      "text/plain": [
       "<Figure size 720x720 with 2 Axes>"
      ]
     },
     "metadata": {
      "needs_background": "light"
     },
     "output_type": "display_data"
    }
   ],
   "source": [
    "# Plot de todos os partidos:\n",
    "def fisioC(f):\n",
    "    if f==1:\n",
    "        return 'bisque'\n",
    "    elif f==0:\n",
    "        return 'tan'\n",
    "    else:\n",
    "        return 'sandybrown'\n",
    "cores = map(fisioC,apoioEvotosByPartido.fisio.values)\n",
    "#cores[apoioEvotosByPartido.loc[apoioEvotosByPartido.partido=='Acredito'].index.values[0]] = 'mediumaquamarine'\n",
    "#x = np.arange(1,1+len(partidosAtuais)+1)\n",
    "x = np.arange(1,1+len(partidosAtuais))\n",
    "pl.figure(figsize=(10,10))\n",
    "\n",
    "pl.subplot(1,2,1)\n",
    "#pl.barh(x,100*apoioEvotosByPartido.freq.values,color=cores, zorder=2, alpha=0.9)\n",
    "pl.barh(x,100*apoioEvotosByPartido.freq.values,color='sandybrown', zorder=2, alpha=0.9)\n",
    "pl.yticks(x,apoioEvotosByPartido.partido.values)\n",
    "pl.xlabel(u'% votos alinhados com governo', fontsize=14)\n",
    "pl.gca().tick_params(labelsize=14)\n",
    "pl.grid(axis='x',zorder=0, linestyle='--')\n",
    "\n",
    "pl.subplot(1,2,2)\n",
    "#pl.barh(x,apoioEvotosByPartido.nsenadores.values,color=cores, zorder=2, alpha=0.9)\n",
    "pl.barh(x,apoioEvotosByPartido.nsenadores.values,color='sandybrown', zorder=2, alpha=0.9)\n",
    "#pl.yticks(x,apoioEvotosByPartido.partido.values)\n",
    "pl.gca().tick_params(labelleft=False)\n",
    "pl.xlabel(u'# de senadores (última contagem)', fontsize=14)\n",
    "pl.gca().tick_params(labelsize=14)\n",
    "pl.grid(axis='x',zorder=0, linestyle='--')\n",
    "pl.xticks(np.arange(0,20,4))\n",
    "\n",
    "# Legenda:\n",
    "legend_elements = [Patch(facecolor='bisque', label='Governativo'),\n",
    "                   Patch(facecolor='sandybrown',     label=u'Não-governativo'),\n",
    "                   Patch(facecolor='tan',     label=u'Indefinido')]\n",
    "#pl.legend(handles=legend_elements, fontsize=14, loc=(0.35,0.15))\n",
    "\n",
    "\n",
    "pl.subplots_adjust(wspace=0.05)\n",
    "#xu.saveFigWdate('graficos/senado/apoio_senado_ao_governo_partidos+tamanho.png')\n",
    "pl.show()"
   ]
  },
  {
   "cell_type": "code",
   "execution_count": 94,
   "metadata": {},
   "outputs": [],
   "source": [
    "# Histograma de votos:\n",
    "#pl.hist(v[v.legislatura==51]['voto_bool'])\n",
    "#pl.show()"
   ]
  },
  {
   "cell_type": "code",
   "execution_count": 95,
   "metadata": {},
   "outputs": [],
   "source": [
    "# Correlação dos votos, trocando NaN por 0.5:\n",
    "#votoTable = v[v.legislatura==52].pivot_table(values='voto_bool', index='nome_senador', \n",
    "#                                             columns='num_votacao').fillna(0.5)\n",
    "#t = np.corrcoef(votoTable).flatten()\n",
    "#pl.hist(t[np.isnan(t)==False])\n",
    "#pl.show()"
   ]
  },
  {
   "cell_type": "markdown",
   "metadata": {},
   "source": [
    "### Análise por deputado"
   ]
  },
  {
   "cell_type": "code",
   "execution_count": 12,
   "metadata": {},
   "outputs": [
    {
     "data": {
      "text/plain": [
       "Series([], Name: nome_senador, dtype: object)"
      ]
     },
     "execution_count": 12,
     "metadata": {},
     "output_type": "execute_result"
    }
   ],
   "source": [
    "# Verifica id. de deputados com mais de um nome:\n",
    "orientGovAtual = v.loc[(v.legislatura==56)]\n",
    "grbySen = orientGovAtual.groupby('id_senador')\n",
    "grbySen['nome_senador'].unique()[grbySen['nome_senador'].nunique()!=1]"
   ]
  },
  {
   "cell_type": "code",
   "execution_count": 13,
   "metadata": {},
   "outputs": [],
   "source": [
    "idAlex    = v.loc[v.nome_senador=='Alessandro Vieira']['id_senador'].unique()[0]\n",
    "apoioAlex = grbySen.get_group(idAlex)['apoio'].mean()*100"
   ]
  },
  {
   "cell_type": "code",
   "execution_count": 18,
   "metadata": {},
   "outputs": [],
   "source": [
    "def senDistPlot(leg):\n",
    "    orientGovAtual = v.loc[(v.legislatura==leg)]\n",
    "    grbySen = orientGovAtual.groupby('id_senador')\n",
    "    apoioMedio = grbySen['apoio'].mean().values*100\n",
    "    edges = np.arange(0,110,10)\n",
    "    pl.hist(apoioMedio,bins=edges)\n",
    "    pl.ylim([0,70])\n",
    "    return np.median(apoioMedio)"
   ]
  },
  {
   "cell_type": "code",
   "execution_count": 19,
   "metadata": {},
   "outputs": [
    {
     "name": "stdout",
     "output_type": "stream",
     "text": [
      "100.0\n",
      "75.0\n",
      "100.0\n",
      "100.0\n",
      "66.66666666666666\n",
      "100.0\n"
     ]
    },
    {
     "data": {
      "image/png": "[encoded data removed]",
      "text/plain": [
       "<Figure size 864x576 with 6 Axes>"
      ]
     },
     "metadata": {
      "needs_background": "light"
     },
     "output_type": "display_data"
    }
   ],
   "source": [
    "legList = sorted(v.legislatura.unique())[1:]\n",
    "LegName = ['FHC 2','Lula 1','Lula 2','Dilma 1','Dilma 2','Bolsonaro']\n",
    "pl.figure(figsize=(12,8))\n",
    "nRows = 2\n",
    "nCols = 3\n",
    "\n",
    "for i in range(len(legList)):\n",
    "    pl.subplot(nRows,nCols,i+1)\n",
    "    # Texto:\n",
    "    pl.text(0.1,0.9,LegName[i],transform = pl.gca().transAxes, fontsize=14)\n",
    "    # Formatação do eixo x:\n",
    "    pl.xlim([0,100])\n",
    "    pl.gca().xaxis.set_major_locator(MaxNLocator(prune='both'))\n",
    "    if i < nCols*(nRows-1):\n",
    "        pl.gca().tick_params(labelbottom=False)\n",
    "    else:\n",
    "        if (i==4): \n",
    "            pl.xlabel(u'% votos alinhados com governo', fontsize=16)\n",
    "    # Formatação do eixo y:\n",
    "    if i%nCols!=0:\n",
    "        pl.gca().tick_params(labelleft=False)\n",
    "    else:\n",
    "        pl.ylabel('# de senadores', fontsize=16)\n",
    "    # Plot:    \n",
    "    median = senDistPlot(legList[i])\n",
    "    print median\n",
    "    pl.axvline(median,linestyle='--',color='k')\n",
    "    # Coloca acredito:\n",
    "    #if legList[i]==56:\n",
    "        #pl.axvline(apoioAlex, color='y')\n",
    "    pl.gca().tick_params(labelsize=14)\n",
    "    pl.gca().yaxis.set_major_locator(MaxNLocator(prune='both'))\n",
    "    # Coloca legenda:\n",
    "    if (i==5):\n",
    "        import matplotlib.colors as colors \n",
    "        vertical_lines = [lines.Line2D([], [], color='k', linestyle='--', label='Mediana'),\n",
    "                          #lines.Line2D([], [], color='y', linestyle='-', label='Alessandro')\\\n",
    "                         ]\n",
    "        pl.legend(handles=vertical_lines, fontsize=14, loc=(0.1,0.6))\n",
    "    \n",
    "pl.subplots_adjust(hspace=0,wspace=0)\n",
    "#xu.saveFigWdate('graficos/senado/apoio_ao_governo_senadores.pdf')\n",
    "#pl.show()"
   ]
  },
  {
   "cell_type": "code",
   "execution_count": 230,
   "metadata": {},
   "outputs": [],
   "source": [
    "# Cria tabela de alinhamento dos senadores com o governo:\n",
    "\n",
    "NvotosSen = grbySen.size()\n",
    "NvotosSen.name = '# votos c/ orient.'\n",
    "\n",
    "tab_alinhamento_governo = orientGovAtual.sort_values('num_votacao')[['id_senador', 'nome_senador', 'partido_senador']]\\\n",
    ".drop_duplicates(subset='id_senador', keep='last').set_index('id_senador', drop=True)\\\n",
    ".join(NvotosSen, how='outer').join(grbySen.apoio.mean(), how='outer').sort_values(['partido_senador', 'nome_senador'])\n",
    "\n",
    "tab_alinhamento_governo['apoio'] = np.round(tab_alinhamento_governo.apoio*100,1)\n",
    "\n",
    "tab_alinhamento_governo.rename(axis='columns', inplace=True,\n",
    "                               mapper={'nome_senador':'Nome', 'partido_senador':'Partido', 'apoio':'Alinhamento'})\n",
    "\n",
    "tab_alinhamento_governo.to_latex('../relatorios/tab-alinhamento-governo-senadores.tex',\n",
    "                                 index=False, encoding='utf8', longtable=True, decimal=',')"
   ]
  },
  {
   "cell_type": "markdown",
   "metadata": {},
   "source": [
    "### Análise por votação"
   ]
  },
  {
   "cell_type": "code",
   "execution_count": 20,
   "metadata": {},
   "outputs": [
    {
     "name": "stdout",
     "output_type": "stream",
     "text": [
      "\u001b[1m11\u001b[0m: DEN\u001b[1;34m | \u001b[0mMPV\u001b[1;34m | \u001b[0mPDS\u001b[1;34m | \u001b[0mPEC\u001b[1;34m | \u001b[0mPL\u001b[1;34m | \u001b[0mPLC\u001b[1;34m | \u001b[0mPLP\u001b[1;34m | \u001b[0mPLS\u001b[1;34m | \u001b[0mPLV\u001b[1;34m | \u001b[0mPRS\u001b[1;34m | \u001b[0mSCD\n"
     ]
    }
   ],
   "source": [
    "xu.unique(v.tipoMateria)"
   ]
  },
  {
   "cell_type": "code",
   "execution_count": 21,
   "metadata": {},
   "outputs": [],
   "source": [
    "# Conferindo que timestamp corresponde a uma única votação:\n",
    "votosFavGovByDate = \\\n",
    "v.sort_values('num_votacao').groupby(['DataSessao','num_votacao'])['apoio'].sum()"
   ]
  },
  {
   "cell_type": "code",
   "execution_count": 22,
   "metadata": {},
   "outputs": [
    {
     "data": {
      "text/plain": [
       "Timestamp('2019-05-07 00:00:00')"
      ]
     },
     "execution_count": 22,
     "metadata": {},
     "output_type": "execute_result"
    }
   ],
   "source": [
    "v.DataSessao.max()"
   ]
  },
  {
   "cell_type": "code",
   "execution_count": 26,
   "metadata": {},
   "outputs": [],
   "source": [
    "anoVotacao    = np.array([pd.to_datetime(x[0]).year for x in votosFavGovByDate.index.values])\n",
    "votosIdx      = np.arange(len(anoVotacao))\n",
    "votoByVotacao = pd.DataFrame({'ano':anoVotacao, 'nvotos':np.array(votosFavGovByDate)})\n",
    "votoByVotacao = votoByVotacao.loc[votoByVotacao.ano>=1999]\n",
    "grByAno       = votoByVotacao.groupby('ano')\n",
    "nVotosMedio   = grByAno.median().values"
   ]
  },
  {
   "cell_type": "code",
   "execution_count": 29,
   "metadata": {},
   "outputs": [
    {
     "name": "stdout",
     "output_type": "stream",
     "text": [
      "19\n",
      "8\n",
      "8\n",
      "10\n",
      "12\n",
      "12\n"
     ]
    },
    {
     "data": {
      "image/png": "[encoded data removed]",
      "text/plain": [
       "<Figure size 936x360 with 7 Axes>"
      ]
     },
     "metadata": {
      "needs_background": "light"
     },
     "output_type": "display_data"
    }
   ],
   "source": [
    "fig = pl.figure(figsize=(13,5))\n",
    "anoUnique = votoByVotacao.ano.unique()\n",
    "for i in range(len(anoUnique)):\n",
    "    pl.subplot(1,len(anoUnique),i+1)\n",
    "    # Text:\n",
    "    pl.text(0.1,0.05, LegName[i], transform = pl.gca().transAxes, fontsize=14)\n",
    "    # Plot:\n",
    "    y = grByAno.get_group(anoUnique[i]).values\n",
    "    print len(y)\n",
    "    x = np.arange(1,1+len(y))\n",
    "    pl.plot(x,y,'r-')\n",
    "    pl.axhline(81/2+1, color='k')\n",
    "    #print nVotosMedio[i][0]\n",
    "    pl.axhline(nVotosMedio[i], color='blue', linestyle='--')\n",
    "    # Format y:\n",
    "    pl.ylim([0,81])\n",
    "    if i>0:\n",
    "        pl.gca().tick_params(labelleft=False)\n",
    "    else:\n",
    "        pl.ylabel(u'# votos alinhados com governo', fontsize=14)\n",
    "    pl.gca().tick_params(labelsize=14)\n",
    "    pl.xticks([5,10,15,20])\n",
    "    pl.xlim([0,21])\n",
    "    \n",
    "    # Label x comum:\n",
    "    axComum = fig.add_subplot(111, frameon=False)\n",
    "    pl.tick_params(labelcolor='none', top=False, bottom=False, left=False, right=False)\n",
    "    axComum.set_xlabel(u'# da votação', fontsize=16)\n",
    "    \n",
    "    # Legenda:\n",
    "    vertical_lines = [lines.Line2D([], [], color='red', linestyle='-', label=u'Por votação'),\n",
    "                      lines.Line2D([], [], color='blue', linestyle='--', label=u'Média'),\n",
    "                      lines.Line2D([], [], color='k', linestyle='-', label='Metade + 1')]\n",
    "    pl.legend(handles=vertical_lines, fontsize=14, loc=(0.8,0.15), framealpha=1)\n",
    "    \n",
    "pl.subplots_adjust(wspace=0.1)\n",
    "#xu.saveFigWdate('graficos/senado/apoio_senado_ao_governo_por_votacao.pdf')\n",
    "pl.show()"
   ]
  },
  {
   "cell_type": "code",
   "execution_count": 218,
   "metadata": {},
   "outputs": [
    {
     "data": {
      "text/plain": [
       "12"
      ]
     },
     "execution_count": 218,
     "metadata": {},
     "output_type": "execute_result"
    }
   ],
   "source": [
    "# Quantas vezes o governo orientou o voto na atual legislatura:\n",
    "len(v.loc[(v.legislatura==56)]['num_votacao'].drop_duplicates())"
   ]
  }
 ],
 "metadata": {
  "kernelspec": {
   "display_name": "Python 2",
   "language": "python",
   "name": "python2"
  },
  "language_info": {
   "codemirror_mode": {
    "name": "ipython",
    "version": 2
   },
   "file_extension": ".py",
   "mimetype": "text/x-python",
   "name": "python",
   "nbconvert_exporter": "python",
   "pygments_lexer": "ipython2",
   "version": "2.7.15"
  }
 },
 "nbformat": 4,
 "nbformat_minor": 2
}

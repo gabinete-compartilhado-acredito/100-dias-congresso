{
 "cells": [
  {
   "cell_type": "code",
   "execution_count": 1,
   "metadata": {},
   "outputs": [
    {
     "data": {
      "application/javascript": [
       "IPython.notebook.set_autosave_interval(1000000000)"
      ]
     },
     "metadata": {},
     "output_type": "display_data"
    },
    {
     "name": "stdout",
     "output_type": "stream",
     "text": [
      "Autosaving every 1000000 seconds\n"
     ]
    }
   ],
   "source": [
    "import pandas as pd\n",
    "import numpy as np\n",
    "import matplotlib.pyplot as pl\n",
    "import xavierUtils as xu\n",
    "from matplotlib.ticker import MaxNLocator\n",
    "from matplotlib import lines\n",
    "import matplotlib.colors as colors \n",
    "from matplotlib.patches import Patch\n",
    "%autosave 1000000"
   ]
  },
  {
   "cell_type": "markdown",
   "metadata": {},
   "source": [
    "### Funções "
   ]
  },
  {
   "cell_type": "code",
   "execution_count": 2,
   "metadata": {},
   "outputs": [],
   "source": [
    "import datetime as dt\n",
    "\n",
    "def saveFigWdate(name):\n",
    "    part = name.split('.')\n",
    "    t = dt.datetime.now().strftime('%Y-%m-%d')\n",
    "    filename = part[0]+'_'+t+'.'+part[1]\n",
    "    pl.savefig(filename, bbox_inches='tight')"
   ]
  },
  {
   "cell_type": "markdown",
   "metadata": {},
   "source": [
    "### Carrega dados"
   ]
  },
  {
   "cell_type": "code",
   "execution_count": 3,
   "metadata": {},
   "outputs": [],
   "source": [
    "# Dados de votações:\n",
    "initial_date = '2019-02-01'\n",
    "final_date   = '2019-05-10'\n",
    "query = 'SELECT * FROM `gabinete-compartilhado.paineis.camara_orientacao_deputado` \\\n",
    "WHERE data_displaced BETWEEN DATE \\'{}\\' AND DATE \\'{}\\''.format(initial_date, final_date)\n",
    "\n",
    "r = pd.read_gbq(query, project_id='gabinete-compartilhado', \n",
    "                dialect='standard',\n",
    "                private_key='../../keys-configs/gabinete-compartilhado-42394b04e230.json')"
   ]
  },
  {
   "cell_type": "code",
   "execution_count": null,
   "metadata": {},
   "outputs": [],
   "source": [
    "#togo = r.reset_index()\n",
    "#togo.to_json('../dados/votacoes/votacao+orientacao_2019-04-17.json', force_ascii=False)"
   ]
  },
  {
   "cell_type": "code",
   "execution_count": null,
   "metadata": {},
   "outputs": [],
   "source": [
    "#r = pd.read_csv('../dados/votacoes/votacao+orientacao_2019-04-16_v2.csv',sep=';')\n",
    "#r = pd.read_json('../dados/votacoes/votacao+orientacao_2019-04-17.json')"
   ]
  },
  {
   "cell_type": "code",
   "execution_count": 5,
   "metadata": {},
   "outputs": [],
   "source": [
    "def countDuplicates(df):\n",
    "    ndup = len(df.loc[df.duplicated()])\n",
    "    return len(df), ndup, float()/len(df)"
   ]
  },
  {
   "cell_type": "code",
   "execution_count": 10,
   "metadata": {},
   "outputs": [
    {
     "name": "stdout",
     "output_type": "stream",
     "text": [
      "\u001b[1m19\u001b[0m: aday\u001b[1;34m | \u001b[0mano\u001b[1;34m | \u001b[0mapoio\u001b[1;34m | \u001b[0mcod_sessao\u001b[1;34m | \u001b[0mdata_displaced\u001b[1;34m | \u001b[0mdeputado\u001b[1;34m | \u001b[0mdiff\u001b[1;34m | \u001b[0mlegislatura\u001b[1;34m | \u001b[0mnome_deputado\u001b[1;34m | \u001b[0mnumero\u001b[1;34m | \u001b[0mobj_votacao\u001b[1;34m | \u001b[0morientacao\u001b[1;34m | \u001b[0morientacao_bool\u001b[1;34m | \u001b[0mpartido_deputado\u001b[1;34m | \u001b[0mpartido_orientacao\u001b[1;34m | \u001b[0mresumo\u001b[1;34m | \u001b[0msigla_tipo\u001b[1;34m | \u001b[0mtimestamp\u001b[1;34m | \u001b[0mvoto\n"
     ]
    }
   ],
   "source": [
    "xu.unique(r.columns)"
   ]
  },
  {
   "cell_type": "code",
   "execution_count": 63,
   "metadata": {},
   "outputs": [
    {
     "name": "stdout",
     "output_type": "stream",
     "text": [
      "2055457 2055457 1.0\n",
      "(2055457, 0, 0.0)\n"
     ]
    }
   ],
   "source": [
    "# Preenche partidos faltantes com 'sem partido':\n",
    "# Reseta indice:\n",
    "# Remove votações duplicadas:\n",
    "v = r.reset_index(drop=True)\n",
    "v = v.drop_duplicates()\n",
    "\n",
    "\n",
    "v['partido_deputado'] = v[['partido_deputado']].fillna('S.PART.')['partido_deputado']\n",
    "print len(r), len(v), float(len(v))/len(r)\n",
    "print countDuplicates(v)"
   ]
  },
  {
   "cell_type": "code",
   "execution_count": 6,
   "metadata": {},
   "outputs": [
    {
     "name": "stdout",
     "output_type": "stream",
     "text": [
      "\u001b[1m19\u001b[0m: aday\u001b[1;34m | \u001b[0mano\u001b[1;34m | \u001b[0mapoio\u001b[1;34m | \u001b[0mcod_sessao\u001b[1;34m | \u001b[0mdata_displaced\u001b[1;34m | \u001b[0mdeputado\u001b[1;34m | \u001b[0mdiff\u001b[1;34m | \u001b[0mlegislatura\u001b[1;34m | \u001b[0mnome_deputado\u001b[1;34m | \u001b[0mnumero\u001b[1;34m | \u001b[0mobj_votacao\u001b[1;34m | \u001b[0morientacao\u001b[1;34m | \u001b[0morientacao_bool\u001b[1;34m | \u001b[0mpartido_deputado\u001b[1;34m | \u001b[0mpartido_orientacao\u001b[1;34m | \u001b[0mresumo\u001b[1;34m | \u001b[0msigla_tipo\u001b[1;34m | \u001b[0mtimestamp\u001b[1;34m | \u001b[0mvoto\n"
     ]
    }
   ],
   "source": [
    "xu.unique(v.columns)"
   ]
  },
  {
   "cell_type": "markdown",
   "metadata": {},
   "source": [
    "### Exploração"
   ]
  },
  {
   "cell_type": "code",
   "execution_count": 8,
   "metadata": {},
   "outputs": [
    {
     "data": {
      "text/html": [
       "<div>\n",
       "<style scoped>\n",
       "    .dataframe tbody tr th:only-of-type {\n",
       "        vertical-align: middle;\n",
       "    }\n",
       "\n",
       "    .dataframe tbody tr th {\n",
       "        vertical-align: top;\n",
       "    }\n",
       "\n",
       "    .dataframe thead th {\n",
       "        text-align: right;\n",
       "    }\n",
       "</style>\n",
       "<table border=\"1\" class=\"dataframe\">\n",
       "  <thead>\n",
       "    <tr style=\"text-align: right;\">\n",
       "      <th></th>\n",
       "      <th>deputado</th>\n",
       "      <th>nome_deputado</th>\n",
       "    </tr>\n",
       "  </thead>\n",
       "  <tbody>\n",
       "  </tbody>\n",
       "</table>\n",
       "</div>"
      ],
      "text/plain": [
       "Empty DataFrame\n",
       "Columns: [deputado, nome_deputado]\n",
       "Index: []"
      ]
     },
     "execution_count": 8,
     "metadata": {},
     "output_type": "execute_result"
    }
   ],
   "source": [
    "r.loc[(r.partido_deputado.isnull())&(r.legislatura==56)][['deputado','nome_deputado']].drop_duplicates()"
   ]
  },
  {
   "cell_type": "code",
   "execution_count": 9,
   "metadata": {},
   "outputs": [
    {
     "name": "stdout",
     "output_type": "stream",
     "text": [
      "\u001b[1mColunas com valores faltantes:\u001b[0m\n",
      "Empty DataFrame\n",
      "Columns: [coluna, N, %]\n",
      "Index: []\n"
     ]
    }
   ],
   "source": [
    "xu.checkMissing(r)"
   ]
  },
  {
   "cell_type": "code",
   "execution_count": 10,
   "metadata": {},
   "outputs": [
    {
     "data": {
      "text/html": [
       "<div>\n",
       "<style scoped>\n",
       "    .dataframe tbody tr th:only-of-type {\n",
       "        vertical-align: middle;\n",
       "    }\n",
       "\n",
       "    .dataframe tbody tr th {\n",
       "        vertical-align: top;\n",
       "    }\n",
       "\n",
       "    .dataframe thead th {\n",
       "        text-align: right;\n",
       "    }\n",
       "</style>\n",
       "<table border=\"1\" class=\"dataframe\">\n",
       "  <thead>\n",
       "    <tr style=\"text-align: right;\">\n",
       "      <th></th>\n",
       "      <th>legislatura</th>\n",
       "      <th>nome_deputado</th>\n",
       "      <th>partido_deputado</th>\n",
       "    </tr>\n",
       "  </thead>\n",
       "  <tbody>\n",
       "    <tr>\n",
       "      <th>33961</th>\n",
       "      <td>53</td>\n",
       "      <td>Juvenil Alves</td>\n",
       "      <td>S.Part.</td>\n",
       "    </tr>\n",
       "    <tr>\n",
       "      <th>34033</th>\n",
       "      <td>53</td>\n",
       "      <td>Damião Feliciano</td>\n",
       "      <td>S.Part.</td>\n",
       "    </tr>\n",
       "    <tr>\n",
       "      <th>39936</th>\n",
       "      <td>52</td>\n",
       "      <td>Serafim Venzon</td>\n",
       "      <td>S.Part.</td>\n",
       "    </tr>\n",
       "    <tr>\n",
       "      <th>10386</th>\n",
       "      <td>53</td>\n",
       "      <td>Djalma Berger</td>\n",
       "      <td>S.Part.</td>\n",
       "    </tr>\n",
       "    <tr>\n",
       "      <th>10187</th>\n",
       "      <td>56</td>\n",
       "      <td>Luiz Antônio Corrêa</td>\n",
       "      <td>S.Part.</td>\n",
       "    </tr>\n",
       "    <tr>\n",
       "      <th>7179</th>\n",
       "      <td>52</td>\n",
       "      <td>Júlio Redecker</td>\n",
       "      <td>S.Part.</td>\n",
       "    </tr>\n",
       "  </tbody>\n",
       "</table>\n",
       "</div>"
      ],
      "text/plain": [
       "       legislatura        nome_deputado partido_deputado\n",
       "33961           53        Juvenil Alves          S.Part.\n",
       "34033           53     Damião Feliciano          S.Part.\n",
       "39936           52       Serafim Venzon          S.Part.\n",
       "10386           53        Djalma Berger          S.Part.\n",
       "10187           56  Luiz Antônio Corrêa          S.Part.\n",
       "7179            52       Júlio Redecker          S.Part."
      ]
     },
     "execution_count": 10,
     "metadata": {},
     "output_type": "execute_result"
    }
   ],
   "source": [
    "r.loc[r.partido_deputado=='S.Part.'][['legislatura','nome_deputado','partido_deputado']].drop_duplicates()"
   ]
  },
  {
   "cell_type": "code",
   "execution_count": 11,
   "metadata": {},
   "outputs": [
    {
     "name": "stdout",
     "output_type": "stream",
     "text": [
      "\n",
      "\u001b[1mtimestamp: \u001b[0m257 unique values.\n",
      "\u001b[1m(sample) \u001b[0m1999-03-10T20:31:00.000000000,  1999-03-10T21:58:00.000000000,  1999-03-10T23:25:00.000000000,  2003-03-12T17:16:00.000000000,  2003-03-26T19:16:00.000000000,  2003-04-02T18:56:00.000000000,  2003-04-08T18:02:00.000000000,  2007-02-12T20:24:00.000000000,  2007-03-27T16:13:00.000000000,  2007-04-10T16:34:00.000000000,  2007-04-10T19:50:00.000000000,  2007-04-12T13:14:00.000000000,  2007-04-24T16:47:00.000000000,  2011-04-06T20:57:00.000000000,  2011-04-26T18:22:00.000000000,  2015-03-24T21:02:00.000000000,  2015-04-07T19:24:00.000000000,  2015-05-07T18:26:00.000000000,  2019-03-20T18:52:00.000000000,  2019-03-26T21:17:00.000000000\n",
      "\n",
      "\u001b[1msigla_tipo: \u001b[0m10 unique values.\n",
      "MPV,  MSC,  PDC,  PDL,  PEC,  PL,  PLP,  PRC,  REC,  REQ\n",
      "\n",
      "\u001b[1mnumero: \u001b[0m105 unique values.\n",
      "\u001b[1m(sample) \u001b[0m13,  35,  285,  346,  347,  382,  441,  475,  696,  844,  846,  852,  861,  1287,  1321,  2942,  3771,  4246,  7225,  7492\n",
      "\n",
      "\u001b[1mano: \u001b[0m24 unique values.\n",
      "\u001b[1m(sample) \u001b[0m1992,  1996,  1999,  2000,  2001,  2003,  2004,  2005,  2007,  2008,  2010,  2011,  2012,  2013,  2014,  2015,  2016,  2017,  2018,  2019\n",
      "\n",
      "\u001b[1mresumo: \u001b[0m215 unique values.\n",
      "\u001b[1m(sample) \u001b[0mAprovada a Emenda de Plenário nº 6. Sim: 232; não: 122; abstenção: 2; total: 356.,  Aprovada, em primeiro turno, o Substitutivo adotado pela Comissão Especial à Proposta de Emenda à Constituição nº 2, de 2015, ressalvados os destaques. Sim: 448; não: 3; total: 451.\n",
      ",  Aprovada, em segundo turno, a Proposta de Emenda à Constituição nº 358 de 2013, ressalvado o destaque. Sim: 452; não: 18; abstenção: 01; total: 471.  ,  Aprovado o Projeto de Resolução nº 11 de 2015. Sim: 226; não: 43; abstenção: 9; total: 278.,  Aprovado o Substitutivo adotado pela Comissão de Finanças e Tributação ao Projeto de Lei Complementar nº 177 de 2012. Sim: 442; não: 22; abstenção: 02; total: 466.\n",
      ",  Aprovado o destaque de preferência. Sim: 190; não: 174; total: 364 (verificação de ofício).,  Aprovado, em apreciação preliminar, o Parecer do Relator, na parte em que manifesta opinião favorável quanto ao atendimento dos pressupostos constitucionais de relevância e urgência e de sua adequação financeira e orçamentária, nos termos do artigo 8º da Resolução nº 01, de 2002-CN. Sim: 232; Não: 82; Abstenção: 0; Total: 314.,  Mantido o artigo destacado. Sim: 247; não: 220; abstenção: 4; total: 471.,  Mantido o texto. Sim: 215; não: 100; abstenção: 5; total: 320.,  Mantido o texto. Sim: 267; não: 202; abstenção: 1; total: 470.,  Mantido o texto. Sim: 269; não: 121; abstenção: 1; total: 391.,  Rejeitada a Emenda de Plenário de n.º 1. Sim: 106; não: 376; abstenção: 7; total: 489.,  Rejeitada a Emenda nº 2. Sim: 140; não: 278; total: 418.,  Rejeitada a Emenda nº 6. Sim: 143; não: 271; abstenção: 2; total: 416.,  Rejeitada a Emenda. Sim: 180; não: 244; abstenção: 2; total: 426.,  Rejeitado o Requerimento.   Sim: 155; Não: 233; Abst.: 15; Total: 403.,  Rejeitado o Requerimento. Sim: 22; não: 246; abstenção: 6; total: 274.,  Rejeitado o Requerimento. Sim: 7; Não: 311; Abstenção: 4; Total: 322.,  Rejeitado o Requerimento. Sim: 7; não: 260; abstenção: 4; total: 271.,  Verificação de votação\n",
      "Sim: 328; Não: 71; Abst.: 1; Total: 400.\n",
      "Aprovada a Medida Provisória nº 104, de 2003.\n",
      "\n",
      "\u001b[1mobj_votacao: \u001b[0m181 unique values.\n",
      "\u001b[1m(sample) \u001b[0mDTQ 15 - PSOL - EXP \"181\" CONST. DO INC. III, DO ART. 10 DO SUBSTITUTIVO,  DTQ 2: PT: PARÁGRAFO ÚNICO, DO ART. 1º DO PLV,  DTQ 33 - PPS - EXP \"ESTABELECIDOS NA LEGISLAÇÃO E REGULAMENTAÇÃO....\",  DVS - EMENDA Nº 189,  DVS - PSDB -  ART. 5º DO PLV,  DVS - PSDB - EMENDA Nº 1,  DVS - PSDB - § 8º DO ART. 2º DA LEI 10.779/2003,  DVS - PT - ART. 2º,  DVS - PTB/PSDC -  \"ARTS. 16 E 17\", CONST. DA EMENDA Nº 12,  DVS - PV - EMENDA Nº 12,  DVS Nº 4 EXPRESSÃO \" INSTITUÍDA PELA.......\",  EMENDAS DE NºS 6 E 8 COM PARECER PELA REJEIÇÃO,  PARECER DO RELATOR PELA ADMISSIBILIDADE,  REQ. DE CONCESSÃO DE PRAZO POR 1 SESSÃO,  REQ. PARA VOTAÇÃO NOMINAL DO REQ. DE RETIRADA DE PAUTA,  REQUERIMENTO DE ADIAMENTO DA VOTAÇÃO POR 2 SESSÕES,  REQUERIMENTO PARA VOTAÇÃO ARTIGO POR ARTIGO,  SOBRE QUESTÃO DE ORDEM DO DEP. LUIZ SÉRGIO - PT/RJ,  URGÊNCIA PARA APRECIAÇÃO DO PL Nº 888/2019,  URGÊNCIA PARA APRECIAÇÃO DO PLP Nº 55/2019\n",
      "\n",
      "\u001b[1mcod_sessao: \u001b[0m142 unique values.\n",
      "\u001b[1m(sample) \u001b[0m767,  3043,  3058,  3059,  3063,  3073,  3075,  3078,  3080,  3104,  3106,  3122,  5438,  5445,  5467,  16736,  16747,  16760,  16768,  16799\n",
      "\n",
      "\u001b[1mpartido_orientacao: \u001b[0m39 unique values.\n",
      "\u001b[1m(sample) \u001b[0mDEM,  Maioria,  Minoria,  PCdoB,  PDT,  PHS,  PL,  PPL,  PR,  PRB,  PRONA,  PRTB,  PSB,  PSD,  PSDB,  PTB,  PTC,  PV,  Patriota,  Podemos\n",
      "\n",
      "\u001b[1morientacao: \u001b[0m3 unique values.\n",
      "Não,  Obstrução,  Sim\n",
      "\n",
      "\u001b[1morientacao_bool: \u001b[0m2 unique values.\n",
      "0,  1\n",
      "\n",
      "\u001b[1mdeputado: \u001b[0m1735 unique values.\n",
      "\u001b[1m(sample) \u001b[0m73885,  74163,  74637,  74688,  74814,  80920,  97707,  141414,  141435,  141439,  141472,  141477,  141552,  143253,  160564,  160618,  160634,  178837,  178957,  204378\n",
      "\n",
      "\u001b[1mnome_deputado: \u001b[0m1800 unique values.\n",
      "\u001b[1m(sample) \u001b[0mAldir Cabral,  Denis Bezerra,  Eleuses Paiva,  Flaviano Melo,  Gustavo Fruet,  José Divino,  João Batista,  Juscelino Filho,  Lourival Gomes,  Luiz Salomão,  Nilo Coelho,  Norberto Teixeira,  Paulo Braga,  Pedro Chaves,  Pedro Vilela,  Renildo Calheiros,  Ricardo Teobaldo,  Ságuas Moraes,  Thiago Peixoto,  Waldemir Moka\n",
      "\n",
      "\u001b[1mpartido_deputado: \u001b[0m37 unique values.\n",
      "\u001b[1m(sample) \u001b[0mCidadania,  DC,  DEM,  MDB,  PCdoB,  PHS,  PL,  PPL,  PR,  PRB,  PROS,  PRTB,  PSC,  PSD,  PST,  PTC,  PV,  Patriota,  Progressistas,  Solidariedade\n",
      "\n",
      "\u001b[1mvoto: \u001b[0m3 unique values.\n",
      "Não,  Obstrução,  Sim\n",
      "\n",
      "\u001b[1mapoio: \u001b[0m2 unique values.\n",
      "0,  1\n",
      "\n",
      "\u001b[1maday: \u001b[0m107 unique values.\n",
      "\u001b[1m(sample) \u001b[0m1999-03-24T00:00:00.000000000,  1999-04-15T00:00:00.000000000,  1999-04-28T00:00:00.000000000,  2003-02-26T00:00:00.000000000,  2003-03-18T00:00:00.000000000,  2003-04-23T00:00:00.000000000,  2003-04-29T00:00:00.000000000,  2007-02-12T00:00:00.000000000,  2007-02-15T00:00:00.000000000,  2007-02-28T00:00:00.000000000,  2007-03-05T00:00:00.000000000,  2007-03-06T00:00:00.000000000,  2007-03-20T00:00:00.000000000,  2007-04-25T00:00:00.000000000,  2011-02-23T00:00:00.000000000,  2015-02-10T00:00:00.000000000,  2015-02-24T00:00:00.000000000,  2015-02-25T00:00:00.000000000,  2019-02-20T00:00:00.000000000,  2019-05-07T00:00:00.000000000\n",
      "\n",
      "\u001b[1mdiff: \u001b[0m6 unique values.\n",
      "0,  4,  8,  12,  16,  20\n",
      "\n",
      "\u001b[1mlegislatura: \u001b[0m6 unique values.\n",
      "51,  52,  53,  54,  55,  56\n",
      "\n",
      "\u001b[1mdata_displaced: \u001b[0m74 unique values.\n",
      "\u001b[1m(sample) \u001b[0m2019-02-03T00:00:00.000000000,  2019-02-05T00:00:00.000000000,  2019-02-06T00:00:00.000000000,  2019-02-10T00:00:00.000000000,  2019-02-15T00:00:00.000000000,  2019-02-28T00:00:00.000000000,  2019-03-05T00:00:00.000000000,  2019-03-09T00:00:00.000000000,  2019-03-15T00:00:00.000000000,  2019-03-17T00:00:00.000000000,  2019-03-21T00:00:00.000000000,  2019-03-25T00:00:00.000000000,  2019-04-01T00:00:00.000000000,  2019-04-02T00:00:00.000000000,  2019-04-06T00:00:00.000000000,  2019-04-07T00:00:00.000000000,  2019-04-16T00:00:00.000000000,  2019-04-18T00:00:00.000000000,  2019-04-24T00:00:00.000000000,  2019-04-27T00:00:00.000000000\n"
     ]
    }
   ],
   "source": [
    "xu.mapUnique(v)"
   ]
  },
  {
   "cell_type": "markdown",
   "metadata": {},
   "source": [
    "### Análise por partidos"
   ]
  },
  {
   "cell_type": "code",
   "execution_count": 68,
   "metadata": {},
   "outputs": [],
   "source": [
    "# Numa dada legislatura, fração de votos de um partido que concordam com orientação mandante:\n",
    "def freqApoio(legisl,mandante,partido=None):\n",
    "    if partido==None:\n",
    "        s = v.loc[(v.partido_orientacao==mandante) & (v.legislatura==legisl)]['apoio']\n",
    "    else:\n",
    "        s = v.loc[(v.partido_orientacao==mandante) & (v.partido_deputado==partido) & (v.legislatura==legisl)]['apoio']\n",
    "    if len(s)==0:\n",
    "        return float('NaN') \n",
    "    return xu.freq(s, 1)    \n",
    "\n",
    "# Determina se partido apoiou governo (% de votos > limiar) em todos os governos anteriores (com exceção da Dilma 2):\n",
    "# Partidos que só aparecem no governo atual são marcados com 0\n",
    "def fisiologicoQ(partido, limiar):\n",
    "    leg = [51,52,53,54,56]\n",
    "    f   = np.array([freqApoio(l,'Governo',partido) for l in leg])\n",
    "    fPresente = f[np.isnan(f)==False]\n",
    "    if len(fPresente)==1:\n",
    "        return 0\n",
    "    if len(fPresente)>1 and np.all(fPresente>limiar):\n",
    "        return 1\n",
    "    else:\n",
    "        return -1"
   ]
  },
  {
   "cell_type": "code",
   "execution_count": 69,
   "metadata": {},
   "outputs": [],
   "source": [
    "partidosAtuais = v.loc[(v.legislatura==56)&(v.partido_deputado.isnull()==False)].partido_deputado.unique()"
   ]
  },
  {
   "cell_type": "code",
   "execution_count": 70,
   "metadata": {},
   "outputs": [],
   "source": [
    "apoioGoverno   = np.array([freqApoio(56,'Governo',p) for p in partidosAtuais])"
   ]
  },
  {
   "cell_type": "code",
   "execution_count": 71,
   "metadata": {},
   "outputs": [],
   "source": [
    "fisiologico    = np.array([fisiologicoQ(p,0.8) for p in partidosAtuais])"
   ]
  },
  {
   "cell_type": "code",
   "execution_count": 72,
   "metadata": {},
   "outputs": [],
   "source": [
    "apoioAcredito  = xu.freq(v.loc[(v.partido_orientacao=='Governo') & \n",
    "                               (v.nome_deputado.isin(['Tabata Amaral','Felipe Rigoni']))]['apoio'],1)\n",
    "apoioByPartido = pd.DataFrame({'partido':np.append(partidosAtuais,'Acredito'), \n",
    "                               'freq':np.append(apoioGoverno,apoioAcredito), \n",
    "                               'fisio':np.append(fisiologico,False)}).sort_values('freq').reset_index()"
   ]
  },
  {
   "cell_type": "code",
   "execution_count": 77,
   "metadata": {},
   "outputs": [],
   "source": [
    "# Sem o Acredito:\n",
    "apoioByPartido = pd.DataFrame({'partido':partidosAtuais, \n",
    "                               'freq':apoioGoverno, \n",
    "                               'fisio':fisiologico}).sort_values('freq').reset_index()"
   ]
  },
  {
   "cell_type": "code",
   "execution_count": 78,
   "metadata": {},
   "outputs": [],
   "source": [
    "# Tamanho atual da bancada:\n",
    "#NdepByPartido = v.loc[v.legislatura==56].groupby('partido_deputado')['deputado'].nunique()\n",
    "NdepByPartido = v.loc[v.legislatura==56].sort_values('timestamp')\\\n",
    "[['deputado', 'partido_deputado']].drop_duplicates(subset='deputado', keep='last').groupby('partido_deputado').size()\n",
    "#NdepByPartido = NdepByPartido.append(pd.Series([2],index=['Acredito']))\n",
    "NdepByPartido.name = 'ndeputados'"
   ]
  },
  {
   "cell_type": "code",
   "execution_count": 79,
   "metadata": {},
   "outputs": [],
   "source": [
    "# Número médio de votos em favor do governo, por partido:\n",
    "apoioEvotosByPartido = apoioByPartido.join(NdepByPartido,on='partido',how='outer')\n",
    "apoioEvotosByPartido['nvotosmedio'] = apoioEvotosByPartido.freq*apoioEvotosByPartido.ndeputados\n",
    "#apoioEvotosByPartido = apoioEvotosByPartido.sort_values('nvotosmedio').reset_index(drop=True)"
   ]
  },
  {
   "cell_type": "code",
   "execution_count": 80,
   "metadata": {},
   "outputs": [
    {
     "data": {
      "image/png": "[encoded data removed]",
      "text/plain": [
       "<Figure size 720x720 with 2 Axes>"
      ]
     },
     "metadata": {
      "needs_background": "light"
     },
     "output_type": "display_data"
    }
   ],
   "source": [
    "# Plot de todos os partidos:\n",
    "def fisioC(f):\n",
    "    if f==1:\n",
    "        return 'bisque'\n",
    "    elif f==0:\n",
    "        return 'tan'\n",
    "    else:\n",
    "        return 'sandybrown'\n",
    "cores = map(fisioC,apoioEvotosByPartido.fisio.values)\n",
    "#cores[apoioEvotosByPartido.loc[apoioEvotosByPartido.partido=='Acredito'].index.values[0]] = 'mediumaquamarine'\n",
    "#x = np.arange(1,1+len(partidosAtuais)+1)\n",
    "x = np.arange(1,1+len(partidosAtuais))\n",
    "pl.figure(figsize=(10,10))\n",
    "\n",
    "pl.subplot(1,2,1)\n",
    "#pl.barh(x,100*apoioEvotosByPartido.freq.values,color=cores, zorder=2, alpha=0.9)\n",
    "pl.barh(x,100*apoioEvotosByPartido.freq.values,color='sandybrown', zorder=2, alpha=0.9)\n",
    "pl.yticks(x,apoioEvotosByPartido.partido.values)\n",
    "pl.xlabel(u'% votos alinhados com governo', fontsize=14)\n",
    "pl.gca().tick_params(labelsize=14)\n",
    "pl.grid(axis='x',zorder=0, linestyle='--')\n",
    "\n",
    "# Legenda:\n",
    "legend_elements = [Patch(facecolor='bisque', label='Governativo'),\n",
    "                   Patch(facecolor='sandybrown',     label=u'Não-governativo'),\n",
    "                   Patch(facecolor='tan',     label=u'Indefinido')]\n",
    "#pl.legend(handles=legend_elements, fontsize=14, loc='lower right')\n",
    "\n",
    "pl.subplot(1,2,2)\n",
    "pl.barh(x,apoioEvotosByPartido.ndeputados.values,color=cores, zorder=2, alpha=0.9)\n",
    "pl.barh(x,apoioEvotosByPartido.ndeputados.values,color='sandybrown', zorder=2, alpha=0.9)\n",
    "#pl.yticks(x,apoioEvotosByPartido.partido.values)\n",
    "pl.gca().tick_params(labelleft=False)\n",
    "pl.xlabel(u'# de deputados (última contagem)', fontsize=14)\n",
    "pl.gca().tick_params(labelsize=14)\n",
    "pl.grid(axis='x',zorder=0, linestyle='--')\n",
    "\n",
    "pl.subplots_adjust(wspace=0.05)\n",
    "#xu.saveFigWdate('graficos/apoio_ao_governo_partidos+tamanho.png')\n",
    "pl.show()"
   ]
  },
  {
   "cell_type": "code",
   "execution_count": 81,
   "metadata": {},
   "outputs": [
    {
     "data": {
      "image/png": "[encoded data removed]",
      "text/plain": [
       "<Figure size 720x360 with 2 Axes>"
      ]
     },
     "metadata": {
      "needs_background": "light"
     },
     "output_type": "display_data"
    }
   ],
   "source": [
    "# Plot dos partidos com X ou mais deputados:\n",
    "apoioEvotosByPartidoG = apoioEvotosByPartido.loc[apoioEvotosByPartido.ndeputados>=10]\n",
    "partidosAtuaisG = apoioEvotosByPartidoG.partido.unique()\n",
    "\n",
    "def fisioC(f):\n",
    "    if f==1:\n",
    "        return 'bisque'\n",
    "    elif f==0:\n",
    "        return 'tan'\n",
    "    else:\n",
    "        return 'sandybrown'\n",
    "cores = map(fisioC,apoioEvotosByPartidoG.fisio.values)\n",
    "#cores[apoioEvotosByPartidoG.loc[apoioEvotosByPartidoG.partido=='Acredito'].index.values[0]] = 'mediumaquamarine'\n",
    "x = np.arange(1,1+len(partidosAtuaisG))\n",
    "pl.figure(figsize=(10,5))\n",
    "\n",
    "pl.subplot(1,2,1)\n",
    "#pl.barh(x,100*apoioEvotosByPartidoG.freq.values,color=cores, zorder=2, alpha=0.9)\n",
    "pl.barh(x,100*apoioEvotosByPartidoG.freq.values,color='sandybrown', zorder=2, alpha=0.9)\n",
    "pl.yticks(x,apoioEvotosByPartidoG.partido.values)\n",
    "pl.xlabel(u'% votos alinhados com governo', fontsize=14)\n",
    "pl.gca().tick_params(labelsize=14)\n",
    "pl.grid(axis='x',zorder=0, linestyle='--')\n",
    "\n",
    "# Legenda:\n",
    "legend_elements = [Patch(facecolor='bisque', label='Governativo'),\n",
    "                   Patch(facecolor='sandybrown',     label=u'Não-governativo'),\n",
    "                   Patch(facecolor='tan',     label=u'Indefinido')]\n",
    "#pl.legend(handles=legend_elements, fontsize=14, loc='lower right')\n",
    "\n",
    "pl.subplot(1,2,2)\n",
    "#pl.barh(x,apoioEvotosByPartidoG.ndeputados.values,color=cores, zorder=2, alpha=0.9)\n",
    "pl.barh(x,apoioEvotosByPartidoG.ndeputados.values,color='sandybrown', zorder=2, alpha=0.9)\n",
    "#pl.yticks(x,apoioEvotosByPartidoG.partido.values)\n",
    "pl.gca().tick_params(labelleft=False)\n",
    "pl.xlabel(u'# de deputados (última contagem)', fontsize=14)\n",
    "pl.gca().tick_params(labelsize=14)\n",
    "pl.grid(axis='x',zorder=0, linestyle='--')\n",
    "\n",
    "pl.subplots_adjust(wspace=0.05)\n",
    "#xu.saveFigWdate('graficos/apoio_ao_governo_partidos10+tamanho.pdf')\n",
    "pl.show()"
   ]
  },
  {
   "cell_type": "markdown",
   "metadata": {},
   "source": [
    "### Análise por deputado"
   ]
  },
  {
   "cell_type": "code",
   "execution_count": 82,
   "metadata": {},
   "outputs": [
    {
     "data": {
      "text/plain": [
       "deputado\n",
       "160558            [Paulo Freire, Paulo Freire Costa]\n",
       "204416               [Ubiratan Sanderson, Sanderson]\n",
       "204418    [Professor Luizão Goulart, Luizão Goulart]\n",
       "Name: nome_deputado, dtype: object"
      ]
     },
     "execution_count": 82,
     "metadata": {},
     "output_type": "execute_result"
    }
   ],
   "source": [
    "# Verifica id. de deputados com mais de um nome:\n",
    "orientGovAtual = v.loc[(v.partido_orientacao=='Governo') & (v.legislatura==56)]\n",
    "grbyDep = orientGovAtual.groupby('deputado')\n",
    "grbyDep['nome_deputado'].unique()[grbyDep['nome_deputado'].nunique()!=1]"
   ]
  },
  {
   "cell_type": "code",
   "execution_count": 83,
   "metadata": {},
   "outputs": [],
   "source": [
    "idTabata = v.loc[v.nome_deputado=='Tabata Amaral']['deputado'].unique()[0]\n",
    "idFelipe = v.loc[v.nome_deputado=='Felipe Rigoni']['deputado'].unique()[0]\n",
    "apoioTabata = grbyDep.get_group(idTabata)['apoio'].mean()*100\n",
    "apoioFelipe = grbyDep.get_group(idFelipe)['apoio'].mean()*100"
   ]
  },
  {
   "cell_type": "code",
   "execution_count": 84,
   "metadata": {},
   "outputs": [],
   "source": [
    "def depDistPlot(leg):\n",
    "    orientGovAtual = v.loc[(v.partido_orientacao=='Governo') & (v.legislatura==leg)]\n",
    "    grbyDep = orientGovAtual.groupby('deputado')\n",
    "    apoioMedio = grbyDep['apoio'].mean().values*100\n",
    "    pl.hist(apoioMedio,bins=20)\n",
    "    pl.ylim([0,350])\n",
    "    return np.median(apoioMedio)\n",
    "    #return np.mean(apoioMedio)"
   ]
  },
  {
   "cell_type": "code",
   "execution_count": 85,
   "metadata": {},
   "outputs": [
    {
     "name": "stdout",
     "output_type": "stream",
     "text": [
      "100.0\n",
      "87.5\n",
      "95.65217391304348\n",
      "92.3076923076923\n",
      "63.46153846153846\n",
      "94.73684210526315\n"
     ]
    },
    {
     "data": {
      "image/png": "[encoded data removed]",
      "text/plain": [
       "<Figure size 864x576 with 6 Axes>"
      ]
     },
     "metadata": {
      "needs_background": "light"
     },
     "output_type": "display_data"
    }
   ],
   "source": [
    "legList = sorted(v.legislatura.unique())\n",
    "LegName = ['FHC 2','Lula 1','Lula 2','Dilma 1','Dilma 2','Bolsonaro']\n",
    "pl.figure(figsize=(12,8))\n",
    "nRows = 2\n",
    "nCols = 3\n",
    "\n",
    "for i in range(len(legList)):\n",
    "    pl.subplot(nRows,nCols,i+1)\n",
    "    # Texto:\n",
    "    pl.text(0.1,0.9,LegName[i],transform = pl.gca().transAxes, fontsize=14)\n",
    "    # Formatação do eixo x:\n",
    "    if i < nCols*(nRows-1):\n",
    "        pl.gca().tick_params(labelbottom=False)\n",
    "    else:\n",
    "        if (i==4): \n",
    "            pl.xlabel(u'% votos alinhados com governo', fontsize=16)\n",
    "    # Formatação do eixo y:\n",
    "    if i%nCols!=0:\n",
    "        pl.gca().tick_params(labelleft=False)\n",
    "    else:\n",
    "        pl.ylabel('# de deputados', fontsize=16)\n",
    "    # Plot:    \n",
    "    median = depDistPlot(legList[i])\n",
    "    print median\n",
    "    pl.axvline(median,linestyle='--',color='k')\n",
    "    # Coloca acredito:\n",
    "    #if legList[i]==56:\n",
    "        #pl.axvline(apoioTabata, color='purple')\n",
    "        #pl.axvline(apoioFelipe, color='g')\n",
    "    pl.gca().tick_params(labelsize=14)\n",
    "    pl.gca().yaxis.set_major_locator(MaxNLocator(prune='both'))\n",
    "    # Coloca legenda:\n",
    "    if (i==5):\n",
    "        import matplotlib.colors as colors \n",
    "        vertical_lines = [lines.Line2D([], [], color='k', linestyle='--', label='Mediana')#,\n",
    "                          #lines.Line2D([], [], color=colors.to_rgba('purple', alpha=None), linestyle='-', label='Tabata'),\n",
    "                          #lines.Line2D([], [], color='g', linestyle='-', label='Felipe')\\\n",
    "                         ]\n",
    "        pl.legend(handles=vertical_lines, fontsize=14, loc=(0.05,0.5))\n",
    "    \n",
    "pl.subplots_adjust(hspace=0,wspace=0)\n",
    "#saveFigWdate('graficos/apoio_ao_governo_deputados.pdf')\n",
    "#pl.show()"
   ]
  },
  {
   "cell_type": "code",
   "execution_count": 86,
   "metadata": {},
   "outputs": [],
   "source": [
    "# Cria tabela de alinhamento dos deputados:\n",
    "\n",
    "tab_alinhamento_governo = orientGovAtual.sort_values('timestamp')[['deputado', 'nome_deputado', 'partido_deputado']]\\\n",
    ".drop_duplicates(subset='deputado', keep='last').set_index('deputado', drop=True)\\\n",
    ".join(grbyDep.apoio.mean(), how='outer').sort_values(['partido_deputado', 'nome_deputado'])\n",
    "\n",
    "tab_alinhamento_governo['apoio'] = np.round(tab_alinhamento_governo.apoio*100,1)\n",
    "\n",
    "tab_alinhamento_governo.rename(axis='columns', inplace=True,\n",
    "                               mapper={'nome_deputado':'Nome', 'partido_deputado':'Partido', 'apoio':'Alinhamento'})\n",
    "\n",
    "#tab_alinhamento_governo.to_latex('../relatorios/tab-alinhamento-governo-deputados.tex',\n",
    "#                                 index=False, encoding='utf8', longtable=True, decimal=',')"
   ]
  },
  {
   "cell_type": "markdown",
   "metadata": {},
   "source": [
    "### Análise por votação"
   ]
  },
  {
   "cell_type": "code",
   "execution_count": 87,
   "metadata": {},
   "outputs": [
    {
     "name": "stdout",
     "output_type": "stream",
     "text": [
      "\u001b[1m10\u001b[0m: MPV\u001b[1;34m | \u001b[0mMSC\u001b[1;34m | \u001b[0mPDC\u001b[1;34m | \u001b[0mPDL\u001b[1;34m | \u001b[0mPEC\u001b[1;34m | \u001b[0mPL\u001b[1;34m | \u001b[0mPLP\u001b[1;34m | \u001b[0mPRC\u001b[1;34m | \u001b[0mREC\u001b[1;34m | \u001b[0mREQ\n"
     ]
    }
   ],
   "source": [
    "xu.unique(v.sigla_tipo)"
   ]
  },
  {
   "cell_type": "code",
   "execution_count": 88,
   "metadata": {},
   "outputs": [],
   "source": [
    "# Conferindo que timestamp corresponde a uma única votação:\n",
    "votosFavGovByDate = \\\n",
    "v.loc[v.partido_orientacao=='Governo'].sort_values('timestamp').groupby(['timestamp','resumo'])['apoio'].sum()"
   ]
  },
  {
   "cell_type": "code",
   "execution_count": 89,
   "metadata": {},
   "outputs": [],
   "source": [
    "def lenEqSum(v):\n",
    "    if len(v)==np.sum(v):\n",
    "        return True\n",
    "    else:\n",
    "        return False"
   ]
  },
  {
   "cell_type": "code",
   "execution_count": 90,
   "metadata": {},
   "outputs": [],
   "source": [
    "#v.loc[v.partido_orientacao=='Governo'].sort_values('timestamp').groupby(['timestamp','resumo'])\\\n",
    "#['apoio'].sum().sort_values(ascending=False)"
   ]
  },
  {
   "cell_type": "code",
   "execution_count": 91,
   "metadata": {},
   "outputs": [
    {
     "data": {
      "text/plain": [
       "True"
      ]
     },
     "execution_count": 91,
     "metadata": {},
     "output_type": "execute_result"
    }
   ],
   "source": [
    "t = v.loc[v.partido_orientacao=='Governo'].sort_values('timestamp').groupby(['timestamp','resumo'])\\\n",
    "['obj_votacao'].nunique()\n",
    "lenEqSum(t)"
   ]
  },
  {
   "cell_type": "code",
   "execution_count": 92,
   "metadata": {},
   "outputs": [
    {
     "data": {
      "text/plain": [
       "Timestamp('2019-05-08 19:50:00')"
      ]
     },
     "execution_count": 92,
     "metadata": {},
     "output_type": "execute_result"
    }
   ],
   "source": [
    "v.timestamp.max()"
   ]
  },
  {
   "cell_type": "code",
   "execution_count": 93,
   "metadata": {},
   "outputs": [],
   "source": [
    "anoVotacao    = np.array([x[0].year for x in votosFavGovByDate.index.values])\n",
    "votosIdx      = np.arange(len(anoVotacao))\n",
    "votoByVotacao = pd.DataFrame({'ano':anoVotacao, 'nvotos':np.array(votosFavGovByDate)})\n",
    "grByAno       = votoByVotacao.groupby('ano')\n",
    "nVotosMedio   = grByAno.mean().values"
   ]
  },
  {
   "cell_type": "code",
   "execution_count": 94,
   "metadata": {},
   "outputs": [
    {
     "data": {
      "text/plain": [
       "resumo\n",
       "    408\n",
       "Name: apoio, dtype: int64"
      ]
     },
     "execution_count": 94,
     "metadata": {},
     "output_type": "execute_result"
    }
   ],
   "source": [
    "votosFavGovByDate['1999-02-24 17:53:00']"
   ]
  },
  {
   "cell_type": "code",
   "execution_count": 95,
   "metadata": {},
   "outputs": [
    {
     "name": "stdout",
     "output_type": "stream",
     "text": [
      "351.0416666666667\n",
      "306.05263157894734\n",
      "287.01851851851853\n",
      "293.6470588235294\n",
      "242.6909090909091\n",
      "315.1142857142857\n"
     ]
    },
    {
     "data": {
      "image/png": "[encoded data removed]",
      "text/plain": [
       "<Figure size 936x360 with 7 Axes>"
      ]
     },
     "metadata": {
      "needs_background": "light"
     },
     "output_type": "display_data"
    }
   ],
   "source": [
    "fig = pl.figure(figsize=(13,5))\n",
    "anoUnique = votoByVotacao.ano.unique()\n",
    "for i in range(len(anoUnique)):\n",
    "    pl.subplot(1,len(anoUnique),i+1)\n",
    "    # Text:\n",
    "    pl.text(0.1,0.05, LegName[i], transform = pl.gca().transAxes, fontsize=14)\n",
    "    # Plot:\n",
    "    y = grByAno.get_group(anoUnique[i]).values\n",
    "    x = np.arange(1,1+len(y))\n",
    "    pl.plot(x,y,'r-')\n",
    "    pl.axhline(513/2+1, color='k')\n",
    "    print nVotosMedio[i][0]\n",
    "    pl.axhline(nVotosMedio[i], color='blue', linestyle='--')\n",
    "    # Format y:\n",
    "    pl.ylim([0,513])\n",
    "    if i>0:\n",
    "        pl.gca().tick_params(labelleft=False)\n",
    "    else:\n",
    "        pl.ylabel(u'# votos alinhados com governo', fontsize=14)\n",
    "    pl.gca().tick_params(labelsize=14)\n",
    "    pl.xticks([10,30,50])\n",
    "    pl.xlim([0,60])\n",
    "    \n",
    "    # Label x comum:\n",
    "    axComum = fig.add_subplot(111, frameon=False)\n",
    "    pl.tick_params(labelcolor='none', top=False, bottom=False, left=False, right=False)\n",
    "    axComum.set_xlabel(u'# da votação', fontsize=16)\n",
    "    \n",
    "    # Legenda:\n",
    "    vertical_lines = [lines.Line2D([], [], color='red', linestyle='-', label=u'Por votação'),\n",
    "                      lines.Line2D([], [], color='blue', linestyle='--', label=u'Média'),\n",
    "                      lines.Line2D([], [], color='k', linestyle='-', label='Metade + 1')]\n",
    "    pl.legend(handles=vertical_lines, fontsize=14, loc=(0.02,0.15), framealpha=1)\n",
    "    \n",
    "pl.subplots_adjust(wspace=0.1)\n",
    "#xu.saveFigWdate('graficos/apoio_ao_governo_por_votacao.pdf')\n",
    "pl.show()"
   ]
  },
  {
   "cell_type": "code",
   "execution_count": 96,
   "metadata": {},
   "outputs": [
    {
     "name": "stdout",
     "output_type": "stream",
     "text": [
      "\u001b[1m19\u001b[0m: aday\u001b[1;34m | \u001b[0mano\u001b[1;34m | \u001b[0mapoio\u001b[1;34m | \u001b[0mcod_sessao\u001b[1;34m | \u001b[0mdata_displaced\u001b[1;34m | \u001b[0mdeputado\u001b[1;34m | \u001b[0mdiff\u001b[1;34m | \u001b[0mlegislatura\u001b[1;34m | \u001b[0mnome_deputado\u001b[1;34m | \u001b[0mnumero\u001b[1;34m | \u001b[0mobj_votacao\u001b[1;34m | \u001b[0morientacao\u001b[1;34m | \u001b[0morientacao_bool\u001b[1;34m | \u001b[0mpartido_deputado\u001b[1;34m | \u001b[0mpartido_orientacao\u001b[1;34m | \u001b[0mresumo\u001b[1;34m | \u001b[0msigla_tipo\u001b[1;34m | \u001b[0mtimestamp\u001b[1;34m | \u001b[0mvoto\n"
     ]
    }
   ],
   "source": [
    "xu.unique(v.columns)"
   ]
  },
  {
   "cell_type": "code",
   "execution_count": 97,
   "metadata": {},
   "outputs": [
    {
     "data": {
      "text/plain": [
       "34"
      ]
     },
     "execution_count": 97,
     "metadata": {},
     "output_type": "execute_result"
    }
   ],
   "source": [
    "# Quantas vezes o governo orientou o voto na atual legislatura:\n",
    "len(v.loc[(v.partido_orientacao=='Governo')&(v.legislatura==56)][['timestamp','obj_votacao']].drop_duplicates())"
   ]
  },
  {
   "cell_type": "code",
   "execution_count": 98,
   "metadata": {},
   "outputs": [
    {
     "data": {
      "text/plain": [
       "57"
      ]
     },
     "execution_count": 98,
     "metadata": {},
     "output_type": "execute_result"
    }
   ],
   "source": [
    "# Quantas votações\n",
    "len(v.loc[(v.legislatura==56)][['timestamp','obj_votacao']].drop_duplicates())"
   ]
  },
  {
   "cell_type": "markdown",
   "metadata": {},
   "source": [
    "### Coesão partidária "
   ]
  },
  {
   "cell_type": "code",
   "execution_count": 99,
   "metadata": {},
   "outputs": [],
   "source": [
    "# Calcula tamanho médio na bancada no período:\n",
    "\n",
    "depByLegPartido = v.loc[v.partido_deputado.isin(partidosAtuais)]\\\n",
    "[['legislatura','partido_deputado','deputado']].drop_duplicates()\n",
    "\n",
    "nLegAtual    = len(np.array(legList)[np.array(legList)==56])\n",
    "nLegAnterior = len(np.array(legList)[np.array(legList)<56])\n",
    "nLegSDilma2  = len(np.array(legList)[np.array(legList)<55])\n",
    "\n",
    "pSizeAtual    = depByLegPartido.loc[(depByLegPartido.legislatura==56)].groupby('partido_deputado')['deputado'].size()/nLegAtual\n",
    "pSizeAnterior = depByLegPartido.loc[(depByLegPartido.legislatura<56)].groupby('partido_deputado')['deputado'].size()/nLegAnterior\n",
    "pSizeSDilma2  = depByLegPartido.loc[(depByLegPartido.legislatura<55)].groupby('partido_deputado')['deputado'].size()/nLegSDilma2"
   ]
  },
  {
   "cell_type": "code",
   "execution_count": 100,
   "metadata": {},
   "outputs": [],
   "source": [
    "# Prepara bases para extrair aderência à liderança dos partidos:\n",
    "baseCoesao = v.loc[(v.partido_deputado.isin(partidosAtuais))&(v.partido_orientacao.isin(partidosAtuais))&\n",
    "                   (v.partido_deputado==v.partido_orientacao)]\n",
    "baseCoesaoAtual    = baseCoesao.loc[baseCoesao.legislatura==56]\n",
    "baseCoesaoAnterior = baseCoesao.loc[baseCoesao.legislatura<56]\n",
    "baseCoesaoSDilma2  = baseCoesao.loc[baseCoesao.legislatura<55]"
   ]
  },
  {
   "cell_type": "code",
   "execution_count": 101,
   "metadata": {},
   "outputs": [],
   "source": [
    "# Calcula os apoios aos partidos nos períodos:\n",
    "apoioAtual    =    baseCoesaoAtual.groupby('partido_deputado')['apoio'].mean()\n",
    "apoioAnterior = baseCoesaoAnterior.groupby('partido_deputado')['apoio'].mean()\n",
    "apoioSDilma2  =  baseCoesaoSDilma2.groupby('partido_deputado')['apoio'].mean()"
   ]
  },
  {
   "cell_type": "code",
   "execution_count": 102,
   "metadata": {},
   "outputs": [],
   "source": [
    "def idxComplement(s1, s2):\n",
    "    return np.array(list(set(s1.index.values)-set(s2.index.values)))"
   ]
  },
  {
   "cell_type": "code",
   "execution_count": 103,
   "metadata": {},
   "outputs": [],
   "source": [
    "# Construindo base de fidelidade e poder:\n",
    "apoioAtual.name    = 'atual'\n",
    "apoioAnterior.name = 'anterior'\n",
    "apoioSDilma2.name  = 'sdilma2'\n",
    "pSizeAnterior.name = 'Nanterior'\n",
    "pSizeSDilma2.name  = 'Nsdilma2'\n",
    "pSizeAtual.name    = 'Natual'"
   ]
  },
  {
   "cell_type": "code",
   "execution_count": 104,
   "metadata": {},
   "outputs": [],
   "source": [
    "apoioPartidos = pd.DataFrame()\n",
    "apoioPartidos = apoioPartidos.join(apoioAtual,    how='outer')\n",
    "apoioPartidos = apoioPartidos.join(apoioAnterior, how='outer')\n",
    "apoioPartidos = apoioPartidos.join(apoioSDilma2,  how='outer')\n",
    "apoioPartidos = apoioPartidos.join(pSizeAtual,    how='outer')\n",
    "apoioPartidos = apoioPartidos.join(pSizeAnterior, how='outer')\n",
    "apoioPartidos = apoioPartidos.join(pSizeSDilma2,  how='outer')"
   ]
  },
  {
   "cell_type": "code",
   "execution_count": 53,
   "metadata": {},
   "outputs": [],
   "source": [
    "apoioPartidos['Patual']    = apoioPartidos[['atual']].fillna(apoioPartidos['atual'].mean())['atual']*apoioPartidos['Natual']\n",
    "apoioPartidos['Panterior'] = apoioPartidos[['anterior']].fillna(apoioPartidos['anterior'].mean())['anterior']*apoioPartidos['Nanterior']\n",
    "apoioPartidos['Psdilma2']  = apoioPartidos[['sdilma2']].fillna(apoioPartidos['sdilma2'].mean())['sdilma2']*apoioPartidos['Nsdilma2']"
   ]
  },
  {
   "cell_type": "code",
   "execution_count": 56,
   "metadata": {},
   "outputs": [
    {
     "data": {
      "text/plain": [
       "Timestamp('2019-05-08 19:50:00')"
      ]
     },
     "execution_count": 56,
     "metadata": {},
     "output_type": "execute_result"
    }
   ],
   "source": [
    "v.timestamp.max()"
   ]
  },
  {
   "cell_type": "code",
   "execution_count": 54,
   "metadata": {},
   "outputs": [
    {
     "data": {
      "image/png": "[encoded data removed]",
      "text/plain": [
       "<Figure size 360x720 with 1 Axes>"
      ]
     },
     "metadata": {
      "needs_background": "light"
     },
     "output_type": "display_data"
    }
   ],
   "source": [
    "partidosSapoio = apoioPartidos.sort_values('atual')\n",
    "\n",
    "pl.figure(figsize=(5,10))\n",
    "x = np.arange(1,1+len(partidosSapoio))\n",
    "\n",
    "pl.barh(x,partidosSapoio.atual[::1]*100, color='skyblue', label='2019', zorder=2)\n",
    "pl.barh(x,partidosSapoio.anterior[::1]*100, height=0.5, color='gray', alpha=0.5, label='1999-2018', zorder=2)\n",
    "#pl.bar(x,partidosSapoio.sdilma2*100, width=0.2, color='red', alpha=0.5)\n",
    "pl.yticks(x,partidosSapoio.index.values[::1])\n",
    "pl.gca().tick_params(labelsize=14)\n",
    "pl.xlabel(u'% votos seguindo orientação do partido', fontsize=16)\n",
    "pl.legend(loc='lower left', fontsize=14)\n",
    "pl.grid(axis='x', zorder=0, linestyle='--')\n",
    "#saveFigWdate('graficos/fidelidade_partidaria_media.png')\n",
    "pl.show()"
   ]
  },
  {
   "cell_type": "code",
   "execution_count": 21,
   "metadata": {},
   "outputs": [
    {
     "data": {
      "image/png": "[encoded data removed]",
      "text/plain": [
       "<Figure size 360x720 with 1 Axes>"
      ]
     },
     "metadata": {
      "needs_background": "light"
     },
     "output_type": "display_data"
    }
   ],
   "source": [
    "partidosSpoder = apoioPartidos.sort_values('Patual')\n",
    "\n",
    "pl.figure(figsize=(5,10))\n",
    "x = np.arange(1,1+len(partidosSpoder))\n",
    "\n",
    "pl.barh(x,partidosSpoder.Patual, color='skyblue', label='2019')\n",
    "pl.barh(x,partidosSpoder.Panterior, height=0.5, color='gray', alpha=0.5, label='1999-2018')\n",
    "#pl.bar(x,partidosSpoder.sdilma2, width=0.2, color='red', alpha=0.5)\n",
    "pl.yticks(x,partidosSpoder.index.values)\n",
    "\n",
    "pl.gca().tick_params(labelsize=14)\n",
    "#pl.grid(color='lightgray')\n",
    "pl.xlabel(u'# médio de votos seguindo orientação', fontsize=16)\n",
    "pl.legend(loc='lower right', fontsize=14)\n",
    "#saveFigWdate('graficos/poder_partidario.png')\n",
    "pl.show()"
   ]
  },
  {
   "cell_type": "markdown",
   "metadata": {},
   "source": [
    "### Fidelidade partidária (por deputados)"
   ]
  },
  {
   "cell_type": "code",
   "execution_count": 37,
   "metadata": {},
   "outputs": [],
   "source": [
    "# Cria tabela de alinhamento dos deputados ao governo:\n",
    "# ATENÇÃO!! USA VARIÁVEIS QUE FORAM DEFINIDAS ACIMA E SERÃO ALTERADAS ABAIXO!\n",
    "\n",
    "tab_alinhamento_governo = orientGovAtual.sort_values('timestamp')[['deputado', 'nome_deputado', 'partido_deputado']]\\\n",
    ".drop_duplicates(subset='deputado', keep='last').set_index('deputado', drop=True)\\\n",
    ".join(grbyDep.apoio.mean(), how='outer').sort_values(['partido_deputado', 'nome_deputado'])\n",
    "\n",
    "tab_alinhamento_governo['apoio'] = np.round(tab_alinhamento_governo.apoio*100,1)\n",
    "\n",
    "tab_alinhamento_governo.rename(axis='columns', inplace=True,\n",
    "                               mapper={'nome_deputado':'Nome', \n",
    "                                       'partido_deputado':'Partido', \n",
    "                                       'apoio':'Al. gov.'})"
   ]
  },
  {
   "cell_type": "code",
   "execution_count": 52,
   "metadata": {},
   "outputs": [],
   "source": [
    "# Exporta tabela:\n",
    "#tab_alinhamento_governo.to_latex('../relatorios/tab-alinhamento-governo-deputados.tex',\n",
    "#                                 index=False, encoding='utf8', longtable=True, decimal=',')"
   ]
  },
  {
   "cell_type": "code",
   "execution_count": 48,
   "metadata": {},
   "outputs": [],
   "source": [
    "def depDistPlot(leg):\n",
    "    orientPartido = v.loc[(v.partido_orientacao==v.partido_deputado) & (v.legislatura==leg)]\n",
    "    grbyDep = orientPartido.groupby('deputado')\n",
    "    apoioMedio = grbyDep['apoio'].mean().values*100\n",
    "    pl.hist(apoioMedio,bins=20)\n",
    "    pl.ylim([0,450])\n",
    "    #print len(apoioMedio)\n",
    "    return np.median(apoioMedio)"
   ]
  },
  {
   "cell_type": "code",
   "execution_count": 43,
   "metadata": {},
   "outputs": [],
   "source": [
    "orientPartAtual = v.loc[(v.partido_orientacao==v.partido_deputado) & (v.legislatura==56)]\n",
    "grbyDepP = orientPartAtual.groupby('deputado')\n",
    "fidTabata = grbyDepP.get_group(idTabata)['apoio'].mean()*100\n",
    "fidFelipe = grbyDepP.get_group(idFelipe)['apoio'].mean()*100"
   ]
  },
  {
   "cell_type": "code",
   "execution_count": 44,
   "metadata": {},
   "outputs": [],
   "source": [
    "# Adiciona alinhamento ao partido na tabela:\n",
    "Norient_by_deputado = grbyDepP.apoio.size()\n",
    "Norient_by_deputado.name = 'norient'\n",
    "\n",
    "tab_alinhamento_final = tab_alinhamento_governo\\\n",
    ".join(Norient_by_deputado)\\\n",
    ".join(np.round(grbyDepP.apoio.mean()*100,1))\\\n",
    ".rename(axis='columns', mapper={'apoio':'Al. part.'})\n",
    "tab_alinhamento_final['norient'].fillna(0, inplace=True)\n",
    "tab_alinhamento_final['norient'] = tab_alinhamento_final['norient'].astype(int)\n",
    "tab_alinhamento_final.rename(axis='columns', mapper={'norient':u'# Or. part.'}, inplace=True)"
   ]
  },
  {
   "cell_type": "code",
   "execution_count": 58,
   "metadata": {},
   "outputs": [],
   "source": [
    "# Exporta tabela:\n",
    "#tab_alinhamento_final.to_latex('../relatorios/tab-alinhamento-deputados-2.tex',\n",
    "#                                 index=False, encoding='utf8', longtable=True, decimal=',', na_rep='-')"
   ]
  },
  {
   "cell_type": "code",
   "execution_count": 47,
   "metadata": {},
   "outputs": [
    {
     "name": "stdout",
     "output_type": "stream",
     "text": [
      "96.79804796476776\n",
      "93.70689751233199\n",
      "94.95655410820245\n",
      "95.3830593937593\n",
      "86.1187702292649\n",
      "93.96259728077214\n"
     ]
    },
    {
     "data": {
      "image/png": "[encoded data removed]",
      "text/plain": [
       "<Figure size 1080x720 with 6 Axes>"
      ]
     },
     "metadata": {
      "needs_background": "light"
     },
     "output_type": "display_data"
    }
   ],
   "source": [
    "legList = sorted(v.legislatura.unique())\n",
    "LegName = ['FHC 2','Lula 1','Lula 2','Dilma 1','Dilma 2','Bolsonaro']\n",
    "pl.figure(figsize=(15,10))\n",
    "nRows = 2\n",
    "nCols = 3\n",
    "\n",
    "for i in range(len(legList)):\n",
    "    pl.subplot(nRows,nCols,i+1)\n",
    "    # Texto:\n",
    "    pl.text(0.1,0.9,LegName[i],transform = pl.gca().transAxes, fontsize=14)\n",
    "    # Formatação do eixo x:\n",
    "    if i < nCols*(nRows-1):\n",
    "        pl.gca().tick_params(labelbottom=False)\n",
    "    else:\n",
    "        if (i==4):\n",
    "            pl.xlabel(u'% votos alinhados com próprio partido', fontsize=16)\n",
    "    # Formatação do eixo y:\n",
    "    if i%nCols!=0:\n",
    "        pl.gca().tick_params(labelleft=False)\n",
    "    else:\n",
    "        pl.ylabel('# de deputados', fontsize=16)\n",
    "    # Plot:    \n",
    "    median = depDistPlot(legList[i])\n",
    "    print median\n",
    "    pl.axvline(median,linestyle='--',color='k')\n",
    "    # Coloca acredito:\n",
    "    #if legList[i]==56:\n",
    "        #pl.axvline(fidTabata, color='purple')\n",
    "        #pl.axvline(fidFelipe, color='g')\n",
    "    pl.gca().tick_params(labelsize=14)\n",
    "    pl.gca().yaxis.set_major_locator(MaxNLocator(prune='both'))\n",
    "    # Coloca legenda:\n",
    "    if (i==5):\n",
    "        import matplotlib.colors as colors \n",
    "        vertical_lines = [lines.Line2D([], [], color='k', linestyle='--', label='Mediana')#,\n",
    "                          #lines.Line2D([], [], color=colors.to_rgba('purple', alpha=None), linestyle='-', label='Tabata'),\n",
    "                          #lines.Line2D([], [], color='g', linestyle='-', label='Felipe')\\\n",
    "                         ]\n",
    "        pl.legend(handles=vertical_lines, fontsize=14, loc=(0.1,0.6))\n",
    "\n",
    "pl.subplots_adjust(hspace=0,wspace=0)\n",
    "xu.saveFigWdate('graficos/fidelidade_partidaria_deputados.pdf')\n",
    "pl.show()"
   ]
  },
  {
   "cell_type": "markdown",
   "metadata": {},
   "source": [
    "# Testes"
   ]
  },
  {
   "cell_type": "code",
   "execution_count": 105,
   "metadata": {},
   "outputs": [
    {
     "data": {
      "text/html": [
       "<div>\n",
       "<style scoped>\n",
       "    .dataframe tbody tr th:only-of-type {\n",
       "        vertical-align: middle;\n",
       "    }\n",
       "\n",
       "    .dataframe tbody tr th {\n",
       "        vertical-align: top;\n",
       "    }\n",
       "\n",
       "    .dataframe thead th {\n",
       "        text-align: right;\n",
       "    }\n",
       "</style>\n",
       "<table border=\"1\" class=\"dataframe\">\n",
       "  <thead>\n",
       "    <tr style=\"text-align: right;\">\n",
       "      <th></th>\n",
       "      <th>Natual</th>\n",
       "      <th>atual</th>\n",
       "    </tr>\n",
       "    <tr>\n",
       "      <th>partido_deputado</th>\n",
       "      <th></th>\n",
       "      <th></th>\n",
       "    </tr>\n",
       "  </thead>\n",
       "  <tbody>\n",
       "    <tr>\n",
       "      <th>PTB</th>\n",
       "      <td>11.0</td>\n",
       "      <td>1.000000</td>\n",
       "    </tr>\n",
       "    <tr>\n",
       "      <th>NOVO</th>\n",
       "      <td>8.0</td>\n",
       "      <td>0.997555</td>\n",
       "    </tr>\n",
       "    <tr>\n",
       "      <th>DEM</th>\n",
       "      <td>27.0</td>\n",
       "      <td>0.991803</td>\n",
       "    </tr>\n",
       "    <tr>\n",
       "      <th>PR</th>\n",
       "      <td>39.0</td>\n",
       "      <td>0.988764</td>\n",
       "    </tr>\n",
       "    <tr>\n",
       "      <th>PCdoB</th>\n",
       "      <td>9.0</td>\n",
       "      <td>0.987097</td>\n",
       "    </tr>\n",
       "    <tr>\n",
       "      <th>MDB</th>\n",
       "      <td>34.0</td>\n",
       "      <td>0.982609</td>\n",
       "    </tr>\n",
       "    <tr>\n",
       "      <th>Cidadania</th>\n",
       "      <td>8.0</td>\n",
       "      <td>0.972152</td>\n",
       "    </tr>\n",
       "    <tr>\n",
       "      <th>PSC</th>\n",
       "      <td>8.0</td>\n",
       "      <td>0.971014</td>\n",
       "    </tr>\n",
       "    <tr>\n",
       "      <th>PSDB</th>\n",
       "      <td>30.0</td>\n",
       "      <td>0.969095</td>\n",
       "    </tr>\n",
       "    <tr>\n",
       "      <th>PSL</th>\n",
       "      <td>54.0</td>\n",
       "      <td>0.950295</td>\n",
       "    </tr>\n",
       "    <tr>\n",
       "      <th>PSOL</th>\n",
       "      <td>10.0</td>\n",
       "      <td>0.948347</td>\n",
       "    </tr>\n",
       "    <tr>\n",
       "      <th>Progressistas</th>\n",
       "      <td>39.0</td>\n",
       "      <td>0.948276</td>\n",
       "    </tr>\n",
       "    <tr>\n",
       "      <th>PT</th>\n",
       "      <td>55.0</td>\n",
       "      <td>0.945331</td>\n",
       "    </tr>\n",
       "    <tr>\n",
       "      <th>PRB</th>\n",
       "      <td>31.0</td>\n",
       "      <td>0.943878</td>\n",
       "    </tr>\n",
       "    <tr>\n",
       "      <th>PDT</th>\n",
       "      <td>28.0</td>\n",
       "      <td>0.920694</td>\n",
       "    </tr>\n",
       "    <tr>\n",
       "      <th>PSD</th>\n",
       "      <td>37.0</td>\n",
       "      <td>0.911574</td>\n",
       "    </tr>\n",
       "    <tr>\n",
       "      <th>PROS</th>\n",
       "      <td>10.0</td>\n",
       "      <td>0.902913</td>\n",
       "    </tr>\n",
       "    <tr>\n",
       "      <th>Solidariedade</th>\n",
       "      <td>15.0</td>\n",
       "      <td>0.881002</td>\n",
       "    </tr>\n",
       "    <tr>\n",
       "      <th>PSB</th>\n",
       "      <td>32.0</td>\n",
       "      <td>0.853147</td>\n",
       "    </tr>\n",
       "    <tr>\n",
       "      <th>Podemos</th>\n",
       "      <td>11.0</td>\n",
       "      <td>0.766026</td>\n",
       "    </tr>\n",
       "  </tbody>\n",
       "</table>\n",
       "</div>"
      ],
      "text/plain": [
       "                  Natual     atual\n",
       "partido_deputado                  \n",
       "PTB                 11.0  1.000000\n",
       "NOVO                 8.0  0.997555\n",
       "DEM                 27.0  0.991803\n",
       "PR                  39.0  0.988764\n",
       "PCdoB                9.0  0.987097\n",
       "MDB                 34.0  0.982609\n",
       "Cidadania            8.0  0.972152\n",
       "PSC                  8.0  0.971014\n",
       "PSDB                30.0  0.969095\n",
       "PSL                 54.0  0.950295\n",
       "PSOL                10.0  0.948347\n",
       "Progressistas       39.0  0.948276\n",
       "PT                  55.0  0.945331\n",
       "PRB                 31.0  0.943878\n",
       "PDT                 28.0  0.920694\n",
       "PSD                 37.0  0.911574\n",
       "PROS                10.0  0.902913\n",
       "Solidariedade       15.0  0.881002\n",
       "PSB                 32.0  0.853147\n",
       "Podemos             11.0  0.766026"
      ]
     },
     "execution_count": 105,
     "metadata": {},
     "output_type": "execute_result"
    }
   ],
   "source": [
    "# Cria tabela para Renata de fidelidade dos partidos:\n",
    "apoioPartidos.loc[apoioPartidos.Natual>=8][['Natual','atual']].sort_values('atual',ascending=False)"
   ]
  },
  {
   "cell_type": "code",
   "execution_count": 126,
   "metadata": {},
   "outputs": [
    {
     "data": {
      "text/plain": [
       "0.9206939281288724"
      ]
     },
     "execution_count": 126,
     "metadata": {},
     "output_type": "execute_result"
    }
   ],
   "source": [
    "# Verificar queda do PSB e PDT com atualização da base em 2019-05-12:\n",
    "v[(v.partido_orientacao=='PDT')&\n",
    "  (v.partido_deputado=='PDT')&\n",
    "  (v.legislatura==56)]['apoio'].mean()\n",
    "\n",
    "v[(v.partido_orientacao=='PSB')&\n",
    "  (v.partido_deputado=='PSB')&\n",
    "  (v.legislatura==56)&\n",
    " (v.timestamp<'2019-05-07')]['timestamp'].max()\n",
    "\n",
    "t = v[(v.partido_orientacao=='PSB')&\n",
    "  (v.partido_deputado=='PSB')&\n",
    "  (v.legislatura==56)].groupby('timestamp')['apoio'].mean()"
   ]
  },
  {
   "cell_type": "code",
   "execution_count": 64,
   "metadata": {},
   "outputs": [
    {
     "name": "stdout",
     "output_type": "stream",
     "text": [
      "deputado\n",
      "109429              [PTC, PRB]\n",
      "115746               [PHS, PR]\n",
      "146788               [PHS, PP]\n",
      "178863             [PPL, PROS]\n",
      "204427               [PHS, PR]\n",
      "204432    [PTC, Solidariedade]\n",
      "204448           [DC, S.Part.]\n",
      "204463              [PRP, PSD]\n",
      "204510               [PHS, PP]\n",
      "204517               [PMN, PR]\n",
      "204550          [Patriota, PR]\n",
      "204554               [PHS, PR]\n",
      "204567               [PRP, PR]\n",
      "Name: partido_deputado, dtype: object\n",
      "517"
     ]
    },
    {
     "data": {
      "text/plain": [
       "530"
      ]
     },
     "execution_count": 64,
     "metadata": {},
     "output_type": "execute_result"
    },
    {
     "name": "stdout",
     "output_type": "stream",
     "text": [
      "\n"
     ]
    }
   ],
   "source": [
    "# Deputados trocam de partido:\n",
    "\n",
    "t = v.loc[v.legislatura==56].groupby('deputado')['partido_deputado']\n",
    "print t.unique().loc[(t.nunique()>1)]\n",
    "\n",
    "print v.loc[v.legislatura==56].deputado.nunique(), \n",
    "v.loc[v.legislatura==56].groupby('partido_deputado')['deputado'].nunique().sum()"
   ]
  },
  {
   "cell_type": "markdown",
   "metadata": {},
   "source": [
    "# Lixo"
   ]
  },
  {
   "cell_type": "code",
   "execution_count": 24,
   "metadata": {},
   "outputs": [
    {
     "data": {
      "text/html": [
       "<div>\n",
       "<style scoped>\n",
       "    .dataframe tbody tr th:only-of-type {\n",
       "        vertical-align: middle;\n",
       "    }\n",
       "\n",
       "    .dataframe tbody tr th {\n",
       "        vertical-align: top;\n",
       "    }\n",
       "\n",
       "    .dataframe thead th {\n",
       "        text-align: right;\n",
       "    }\n",
       "</style>\n",
       "<table border=\"1\" class=\"dataframe\">\n",
       "  <thead>\n",
       "    <tr style=\"text-align: right;\">\n",
       "      <th></th>\n",
       "      <th>nome</th>\n",
       "      <th>sigla_nova</th>\n",
       "      <th>total_membros</th>\n",
       "      <th>atuais</th>\n",
       "    </tr>\n",
       "  </thead>\n",
       "  <tbody>\n",
       "    <tr>\n",
       "      <th>0</th>\n",
       "      <td>Partido Republicano Progressista</td>\n",
       "      <td>PRP</td>\n",
       "      <td>1.0</td>\n",
       "      <td>PRP</td>\n",
       "    </tr>\n",
       "    <tr>\n",
       "      <th>1</th>\n",
       "      <td>Partido Humanista da Solidariedade</td>\n",
       "      <td>PHS</td>\n",
       "      <td>1.0</td>\n",
       "      <td>PHS</td>\n",
       "    </tr>\n",
       "    <tr>\n",
       "      <th>2</th>\n",
       "      <td>Rede Sustentabilidade</td>\n",
       "      <td>REDE</td>\n",
       "      <td>1.0</td>\n",
       "      <td>REDE</td>\n",
       "    </tr>\n",
       "    <tr>\n",
       "      <th>3</th>\n",
       "      <td>Partido da Mobilização Nacional</td>\n",
       "      <td>PMN</td>\n",
       "      <td>2.0</td>\n",
       "      <td>PMN</td>\n",
       "    </tr>\n",
       "    <tr>\n",
       "      <th>4</th>\n",
       "      <td>Partido Verde</td>\n",
       "      <td>PV</td>\n",
       "      <td>4.0</td>\n",
       "      <td>PV</td>\n",
       "    </tr>\n",
       "    <tr>\n",
       "      <th>5</th>\n",
       "      <td>Patriota</td>\n",
       "      <td>Patriota</td>\n",
       "      <td>4.0</td>\n",
       "      <td>Patriota</td>\n",
       "    </tr>\n",
       "    <tr>\n",
       "      <th>6</th>\n",
       "      <td>Avante</td>\n",
       "      <td>Avante</td>\n",
       "      <td>7.0</td>\n",
       "      <td>Avante</td>\n",
       "    </tr>\n",
       "    <tr>\n",
       "      <th>7</th>\n",
       "      <td>Cidadania</td>\n",
       "      <td>Cidadania</td>\n",
       "      <td>8.0</td>\n",
       "      <td>Cidadania</td>\n",
       "    </tr>\n",
       "    <tr>\n",
       "      <th>8</th>\n",
       "      <td>Partido Social Cristão</td>\n",
       "      <td>PSC</td>\n",
       "      <td>8.0</td>\n",
       "      <td>PSC</td>\n",
       "    </tr>\n",
       "    <tr>\n",
       "      <th>9</th>\n",
       "      <td>Partido Comunista do Brasil</td>\n",
       "      <td>PCdoB</td>\n",
       "      <td>8.0</td>\n",
       "      <td>PCdoB</td>\n",
       "    </tr>\n",
       "    <tr>\n",
       "      <th>10</th>\n",
       "      <td>Partido Novo</td>\n",
       "      <td>NOVO</td>\n",
       "      <td>8.0</td>\n",
       "      <td>NOVO</td>\n",
       "    </tr>\n",
       "    <tr>\n",
       "      <th>11</th>\n",
       "      <td>Partido Socialismo e Liberdade</td>\n",
       "      <td>PSOL</td>\n",
       "      <td>10.0</td>\n",
       "      <td>PSOL</td>\n",
       "    </tr>\n",
       "    <tr>\n",
       "      <th>12</th>\n",
       "      <td>Partido Republicano da Ordem Social</td>\n",
       "      <td>PROS</td>\n",
       "      <td>10.0</td>\n",
       "      <td>PROS</td>\n",
       "    </tr>\n",
       "    <tr>\n",
       "      <th>13</th>\n",
       "      <td>Podemos</td>\n",
       "      <td>Podemos</td>\n",
       "      <td>11.0</td>\n",
       "      <td>Podemos</td>\n",
       "    </tr>\n",
       "    <tr>\n",
       "      <th>14</th>\n",
       "      <td>Partido Trabalhista Brasileiro</td>\n",
       "      <td>PTB</td>\n",
       "      <td>11.0</td>\n",
       "      <td>PTB</td>\n",
       "    </tr>\n",
       "    <tr>\n",
       "      <th>15</th>\n",
       "      <td>Solidariedade</td>\n",
       "      <td>Solidariedade</td>\n",
       "      <td>14.0</td>\n",
       "      <td>Solidariedade</td>\n",
       "    </tr>\n",
       "    <tr>\n",
       "      <th>16</th>\n",
       "      <td>Democratas</td>\n",
       "      <td>DEM</td>\n",
       "      <td>27.0</td>\n",
       "      <td>DEM</td>\n",
       "    </tr>\n",
       "    <tr>\n",
       "      <th>17</th>\n",
       "      <td>Partido Democrático Trabalhista</td>\n",
       "      <td>PDT</td>\n",
       "      <td>28.0</td>\n",
       "      <td>PDT</td>\n",
       "    </tr>\n",
       "    <tr>\n",
       "      <th>18</th>\n",
       "      <td>Partido da Social Democracia Brasileira</td>\n",
       "      <td>PSDB</td>\n",
       "      <td>30.0</td>\n",
       "      <td>PSDB</td>\n",
       "    </tr>\n",
       "    <tr>\n",
       "      <th>19</th>\n",
       "      <td>Partido Republicano Brasileiro</td>\n",
       "      <td>PRB</td>\n",
       "      <td>31.0</td>\n",
       "      <td>PRB</td>\n",
       "    </tr>\n",
       "    <tr>\n",
       "      <th>20</th>\n",
       "      <td>Partido Socialista Brasileiro</td>\n",
       "      <td>PSB</td>\n",
       "      <td>32.0</td>\n",
       "      <td>PSB</td>\n",
       "    </tr>\n",
       "    <tr>\n",
       "      <th>21</th>\n",
       "      <td>Movimento Democrático Brasileiro</td>\n",
       "      <td>MDB</td>\n",
       "      <td>34.0</td>\n",
       "      <td>MDB</td>\n",
       "    </tr>\n",
       "    <tr>\n",
       "      <th>22</th>\n",
       "      <td>Bloco Parlamentar PDT, AVANTE</td>\n",
       "      <td>None</td>\n",
       "      <td>35.0</td>\n",
       "      <td>NaN</td>\n",
       "    </tr>\n",
       "    <tr>\n",
       "      <th>23</th>\n",
       "      <td>Bloco Parlamentar PP, MDB, PTB</td>\n",
       "      <td>None</td>\n",
       "      <td>84.0</td>\n",
       "      <td>NaN</td>\n",
       "    </tr>\n",
       "    <tr>\n",
       "      <th>24</th>\n",
       "      <td>Partido Social Democrático</td>\n",
       "      <td>PSD</td>\n",
       "      <td>36.0</td>\n",
       "      <td>PSD</td>\n",
       "    </tr>\n",
       "    <tr>\n",
       "      <th>25</th>\n",
       "      <td>Partido da República</td>\n",
       "      <td>PR</td>\n",
       "      <td>38.0</td>\n",
       "      <td>PR</td>\n",
       "    </tr>\n",
       "    <tr>\n",
       "      <th>26</th>\n",
       "      <td>Progressistas</td>\n",
       "      <td>Progressistas</td>\n",
       "      <td>39.0</td>\n",
       "      <td>Progressistas</td>\n",
       "    </tr>\n",
       "    <tr>\n",
       "      <th>27</th>\n",
       "      <td>Partido Social Liberal</td>\n",
       "      <td>PSL</td>\n",
       "      <td>54.0</td>\n",
       "      <td>PSL</td>\n",
       "    </tr>\n",
       "    <tr>\n",
       "      <th>28</th>\n",
       "      <td>Partido dos Trabalhadores</td>\n",
       "      <td>PT</td>\n",
       "      <td>55.0</td>\n",
       "      <td>PT</td>\n",
       "    </tr>\n",
       "    <tr>\n",
       "      <th>29</th>\n",
       "      <td>NaN</td>\n",
       "      <td>NaN</td>\n",
       "      <td>NaN</td>\n",
       "      <td>PPL</td>\n",
       "    </tr>\n",
       "    <tr>\n",
       "      <th>30</th>\n",
       "      <td>NaN</td>\n",
       "      <td>NaN</td>\n",
       "      <td>NaN</td>\n",
       "      <td>PTC</td>\n",
       "    </tr>\n",
       "    <tr>\n",
       "      <th>31</th>\n",
       "      <td>NaN</td>\n",
       "      <td>NaN</td>\n",
       "      <td>NaN</td>\n",
       "      <td>DC</td>\n",
       "    </tr>\n",
       "    <tr>\n",
       "      <th>32</th>\n",
       "      <td>NaN</td>\n",
       "      <td>NaN</td>\n",
       "      <td>NaN</td>\n",
       "      <td>S.Part.</td>\n",
       "    </tr>\n",
       "  </tbody>\n",
       "</table>\n",
       "</div>"
      ],
      "text/plain": [
       "                                       nome     sigla_nova  total_membros  \\\n",
       "0          Partido Republicano Progressista            PRP            1.0   \n",
       "1        Partido Humanista da Solidariedade            PHS            1.0   \n",
       "2                     Rede Sustentabilidade           REDE            1.0   \n",
       "3           Partido da Mobilização Nacional            PMN            2.0   \n",
       "4                             Partido Verde             PV            4.0   \n",
       "5                                  Patriota       Patriota            4.0   \n",
       "6                                    Avante         Avante            7.0   \n",
       "7                                 Cidadania      Cidadania            8.0   \n",
       "8                    Partido Social Cristão            PSC            8.0   \n",
       "9               Partido Comunista do Brasil          PCdoB            8.0   \n",
       "10                             Partido Novo           NOVO            8.0   \n",
       "11           Partido Socialismo e Liberdade           PSOL           10.0   \n",
       "12      Partido Republicano da Ordem Social           PROS           10.0   \n",
       "13                                  Podemos        Podemos           11.0   \n",
       "14           Partido Trabalhista Brasileiro            PTB           11.0   \n",
       "15                            Solidariedade  Solidariedade           14.0   \n",
       "16                               Democratas            DEM           27.0   \n",
       "17          Partido Democrático Trabalhista            PDT           28.0   \n",
       "18  Partido da Social Democracia Brasileira           PSDB           30.0   \n",
       "19           Partido Republicano Brasileiro            PRB           31.0   \n",
       "20            Partido Socialista Brasileiro            PSB           32.0   \n",
       "21         Movimento Democrático Brasileiro            MDB           34.0   \n",
       "22            Bloco Parlamentar PDT, AVANTE           None           35.0   \n",
       "23           Bloco Parlamentar PP, MDB, PTB           None           84.0   \n",
       "24               Partido Social Democrático            PSD           36.0   \n",
       "25                     Partido da República             PR           38.0   \n",
       "26                            Progressistas  Progressistas           39.0   \n",
       "27                   Partido Social Liberal            PSL           54.0   \n",
       "28                Partido dos Trabalhadores             PT           55.0   \n",
       "29                                      NaN            NaN            NaN   \n",
       "30                                      NaN            NaN            NaN   \n",
       "31                                      NaN            NaN            NaN   \n",
       "32                                      NaN            NaN            NaN   \n",
       "\n",
       "           atuais  \n",
       "0             PRP  \n",
       "1             PHS  \n",
       "2            REDE  \n",
       "3             PMN  \n",
       "4              PV  \n",
       "5        Patriota  \n",
       "6          Avante  \n",
       "7       Cidadania  \n",
       "8             PSC  \n",
       "9           PCdoB  \n",
       "10           NOVO  \n",
       "11           PSOL  \n",
       "12           PROS  \n",
       "13        Podemos  \n",
       "14            PTB  \n",
       "15  Solidariedade  \n",
       "16            DEM  \n",
       "17            PDT  \n",
       "18           PSDB  \n",
       "19            PRB  \n",
       "20            PSB  \n",
       "21            MDB  \n",
       "22            NaN  \n",
       "23            NaN  \n",
       "24            PSD  \n",
       "25             PR  \n",
       "26  Progressistas  \n",
       "27            PSL  \n",
       "28             PT  \n",
       "29            PPL  \n",
       "30            PTC  \n",
       "31             DC  \n",
       "32        S.Part.  "
      ]
     },
     "execution_count": 24,
     "metadata": {},
     "output_type": "execute_result"
    }
   ],
   "source": [
    "# Tamanho das bancadas:\n",
    "query = 'SELECT * FROM `gabinete-compartilhado.analise_congresso_poder.camara_sigla_numero_membros_tab`'\n",
    "partido_size = pd.read_gbq(query, project_id='gabinete-compartilhado', \n",
    "                dialect='standard',\n",
    "                private_key='../keys-configs/gabinete-compartilhado.json')\n",
    "\n",
    "temp = pd.DataFrame()\n",
    "temp['atuais'] = pd.Series(partidosAtuais, name='atuais')\n",
    "partido_size.merge(temp, left_on='sigla_nova', right_on='atuais', how='outer')"
   ]
  },
  {
   "cell_type": "code",
   "execution_count": null,
   "metadata": {},
   "outputs": [],
   "source": [
    "print xu.unique(v.partido_orientacao)\n",
    "print xu.unique(v.legislatura)\n",
    "print xu.freq(v.voto,'Obstrução'), xu.freq(v.orientacao,'Obstrução')\n",
    "print xu.freq(v.voto,'Sim'), xu.freq(v.orientacao,'Sim')\n",
    "print xu.freq(v.voto,'Não'), xu.freq(v.orientacao,'Não')"
   ]
  },
  {
   "cell_type": "code",
   "execution_count": null,
   "metadata": {},
   "outputs": [],
   "source": [
    "listaLegislatura = sorted(v.legislatura.unique())\n",
    "anoLegislatura   = 2019 - 4*(56-np.array(listaLegislatura))\n",
    "\n",
    "def histApoio(mandante, partido=None):\n",
    "    return np.array([freqApoio(l, mandante, partido) for l in listaLegislatura])"
   ]
  },
  {
   "cell_type": "code",
   "execution_count": null,
   "metadata": {},
   "outputs": [],
   "source": [
    "def histBarPlot(mandante, partido=None):\n",
    "    x = np.arange(1,1+len(anoLegislatura))\n",
    "    y = 100*histApoio(mandante,partido)\n",
    "    pl.bar(x,y)\n",
    "    pl.xticks(x, anoLegislatura)\n",
    "    pl.xlabel('Ano')\n",
    "    pl.ylabel('% de apoio')\n",
    "    if partido==None:\n",
    "        pl.title(mandante+' orienta geral')\n",
    "    else:\n",
    "        pl.title(mandante+' orienta '+partido)\n",
    "    pl.ylim([0,105])"
   ]
  },
  {
   "cell_type": "code",
   "execution_count": null,
   "metadata": {},
   "outputs": [],
   "source": [
    "pl.figure(figsize=(6*2.5,6*2.5))\n",
    "for n in range(36):\n",
    "    pl.subplot(6,6,n+1)\n",
    "    histBarPlot('Governo', sorted(v.partido_deputado.unique())[1+n])\n",
    "pl.tight_layout()\n",
    "pl.show()"
   ]
  },
  {
   "cell_type": "code",
   "execution_count": 205,
   "metadata": {},
   "outputs": [
    {
     "data": {
      "image/png": "[encoded data removed]",
      "text/plain": [
       "<Figure size 1080x720 with 6 Axes>"
      ]
     },
     "metadata": {
      "needs_background": "light"
     },
     "output_type": "display_data"
    }
   ],
   "source": [
    "legList = sorted(v.legislatura.unique())\n",
    "LegName = ['FHC 2','Lula 1','Lula 2','Dilma 1','Dilma 2','Bolsonaro']\n",
    "pl.figure(figsize=(15,10))\n",
    "nRows = 2\n",
    "nCols = 3\n",
    "\n",
    "\n",
    "x = np.arange(1,len(partidosAtuais))\n",
    "apoioMin = int(coesaoByLegPartido.apoio.min()*10)*10\n",
    "\n",
    "for i in range(len(legList)):\n",
    "    pl.subplot(nRows,nCols,i+1)\n",
    "    # Texto:\n",
    "    pl.text(0.98,0.05,LegName[i],transform = pl.gca().transAxes, ha='right')\n",
    "    # Formatação do eixo x:\n",
    "    if i < nCols*(nRows-1):\n",
    "        pl.gca().tick_params(labelbottom=False)\n",
    "    else:\n",
    "        pl.xlabel('% de votos alinhados com governo')\n",
    "    # Formatação do eixo y:\n",
    "    if i%nCols!=0:\n",
    "        pl.gca().tick_params(labelleft=False)\n",
    "    else:\n",
    "        pl.ylabel('# de deputados')\n",
    "    # Plot:\n",
    "    pl.barh(x,100*pivotCoesao[legList[i]].values)\n",
    "    pl.yticks(x,pivotCoesao[legList[i]].index.values)\n",
    "    pl.xlabel('% de votos alinhados com partido')\n",
    "    pl.xlim([apoioMin,110])\n",
    "    # Coloca acredito:\n",
    "    #if legList[i]==56:\n",
    "    \n",
    "    \n",
    "pl.subplots_adjust(hspace=0,wspace=0)\n",
    "pl.show()"
   ]
  }
 ],
 "metadata": {
  "kernelspec": {
   "display_name": "Python 2",
   "language": "python",
   "name": "python2"
  },
  "language_info": {
   "codemirror_mode": {
    "name": "ipython",
    "version": 2
   },
   "file_extension": ".py",
   "mimetype": "text/x-python",
   "name": "python",
   "nbconvert_exporter": "python",
   "pygments_lexer": "ipython2",
   "version": "2.7.15"
  }
 },
 "nbformat": 4,
 "nbformat_minor": 2
}
